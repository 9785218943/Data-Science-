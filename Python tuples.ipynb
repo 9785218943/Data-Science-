{
 "cells": [
  {
   "cell_type": "markdown",
   "id": "e23e4689-3fa1-41a9-b539-5609926d0143",
   "metadata": {},
   "source": [
    "## What are the characteristics of the tuples? Is tuple immutable?"
   ]
  },
  {
   "cell_type": "markdown",
   "id": "4e3511c1-546f-4917-bae9-c5c8697326e4",
   "metadata": {},
   "source": [
    "Ans-Tuples are immutable (tuples are lists which can't be edited),tuples are faster than list.\n",
    "syntax:tup_1=(10,;Chelsea',20)                          "
   ]
  },
  {
   "cell_type": "markdown",
   "id": "2e283444-da30-4b95-9ee0-73b196e4e7a5",
   "metadata": {},
   "source": [
    "Characteristics of tuples:\n",
    "1.they are indexed.\n",
    "2.tuples are ordered.\n",
    "3.these are immutable.\n",
    "4.they can contain duplicate items."
   ]
  },
  {
   "cell_type": "markdown",
   "id": "646ae11c-7153-43a0-b491-a861a61fa1ad",
   "metadata": {},
   "source": [
    "## Q2. What are the two tuple methods in python? Give an example of each method. Give a reason why\n",
    "# tuples have only two in-built methods as compared to Lists."
   ]
  },
  {
   "cell_type": "markdown",
   "id": "8f1029e9-d770-4486-95d6-6cb8d8ed238d",
   "metadata": {},
   "source": [
    "Ans- Python has two built-in methods that you can use on tuples.\n",
    "Method:\n",
    "1.count(). Returns the number of times a specified value occurs in a tuple.\n",
    "\n",
    "2.index().Searches the tuple for a specified value and returns the position of where it was found."
   ]
  },
  {
   "cell_type": "code",
   "execution_count": 1,
   "id": "1f0874a8-8dc6-4e51-9c80-99fe120f8de0",
   "metadata": {},
   "outputs": [],
   "source": [
    "a_tuple = (0,[1,2,3],(4,5,6),7.0)"
   ]
  },
  {
   "cell_type": "code",
   "execution_count": 3,
   "id": "7241684e-5cdd-4e66-8281-ba6ba952dae2",
   "metadata": {},
   "outputs": [
    {
     "name": "stdout",
     "output_type": "stream",
     "text": [
      "(0, [1, 2, 3], (4, 5, 6), 7.0)\n"
     ]
    }
   ],
   "source": [
    "print(a_tuple)\n"
   ]
  },
  {
   "cell_type": "code",
   "execution_count": 4,
   "id": "28b0f14f-0c17-433b-8a81-599b11490089",
   "metadata": {},
   "outputs": [
    {
     "name": "stdout",
     "output_type": "stream",
     "text": [
      "<class 'str'>\n"
     ]
    }
   ],
   "source": [
    "print(type(('A')))"
   ]
  },
  {
   "cell_type": "code",
   "execution_count": 5,
   "id": "209565db-e5f9-46d7-a9fe-2f67e6e7f538",
   "metadata": {},
   "outputs": [
    {
     "name": "stdout",
     "output_type": "stream",
     "text": [
      "The first element: 0\n"
     ]
    }
   ],
   "source": [
    "print('The first element:',a_tuple[0])"
   ]
  },
  {
   "cell_type": "code",
   "execution_count": 6,
   "id": "8229b207-d5f6-446e-a651-b0871d267cb9",
   "metadata": {},
   "outputs": [
    {
     "name": "stdout",
     "output_type": "stream",
     "text": [
      "The last element: 7.0\n"
     ]
    }
   ],
   "source": [
    "print('The last element:',a_tuple[-1])"
   ]
  },
  {
   "cell_type": "code",
   "execution_count": 7,
   "id": "d56a70f4-f921-4d88-90b2-0f2420222804",
   "metadata": {},
   "outputs": [
    {
     "name": "stdout",
     "output_type": "stream",
     "text": [
      "The data type of the second elemrnt: <class 'list'>\n"
     ]
    }
   ],
   "source": [
    "print('The data type of the second elemrnt:',type(a_tuple[1]))"
   ]
  },
  {
   "cell_type": "markdown",
   "id": "7cc06a82-ae65-4816-888f-36f9c8b3dd65",
   "metadata": {},
   "source": [
    "The in-built function to compare two lists in python are:\n",
    "    counter()class can be used to compare lists.The counter()function counts the frequency\n",
    "    of the items in a lists and stores the data as a dictionary object in the format value:frequency.if two lists have the same dictionary output,you can infer that the lists are the same."
   ]
  },
  {
   "cell_type": "code",
   "execution_count": 1,
   "id": "dd8852ff-940b-4c2b-846a-dc3ec329778e",
   "metadata": {},
   "outputs": [],
   "source": [
    "t=()"
   ]
  },
  {
   "cell_type": "code",
   "execution_count": 2,
   "id": "7d53bbef-3e2f-4549-aa21-b32023a62bc5",
   "metadata": {},
   "outputs": [
    {
     "data": {
      "text/plain": [
       "tuple"
      ]
     },
     "execution_count": 2,
     "metadata": {},
     "output_type": "execute_result"
    }
   ],
   "source": [
    "type(t)"
   ]
  },
  {
   "cell_type": "code",
   "execution_count": 3,
   "id": "df8e0d3a-6e5d-429f-9d12-4c170e771f0a",
   "metadata": {},
   "outputs": [],
   "source": [
    "t1=(1,2,3,4,45,45.45,45+5j,\"Nitish\",True)"
   ]
  },
  {
   "cell_type": "code",
   "execution_count": 4,
   "id": "166946f8-c506-43f4-aa7e-b07ba4596c82",
   "metadata": {},
   "outputs": [
    {
     "data": {
      "text/plain": [
       "tuple"
      ]
     },
     "execution_count": 4,
     "metadata": {},
     "output_type": "execute_result"
    }
   ],
   "source": [
    "type(t1)"
   ]
  },
  {
   "cell_type": "code",
   "execution_count": 6,
   "id": "36dfecf6-c659-4318-8ecd-0a5cdf5edb5f",
   "metadata": {},
   "outputs": [],
   "source": [
    "l=[1,2,3,4]"
   ]
  },
  {
   "cell_type": "code",
   "execution_count": 7,
   "id": "cdd11f03-e310-4699-929c-0435cbb08cd6",
   "metadata": {},
   "outputs": [
    {
     "data": {
      "text/plain": [
       "list"
      ]
     },
     "execution_count": 7,
     "metadata": {},
     "output_type": "execute_result"
    }
   ],
   "source": [
    "type(l)"
   ]
  },
  {
   "cell_type": "code",
   "execution_count": 8,
   "id": "ddf5b97c-fdc6-41cc-b580-bf6ada59bc88",
   "metadata": {},
   "outputs": [
    {
     "data": {
      "text/plain": [
       "(1, 2, 3, 4, 45, 45.45, (45+5j), 'Nitish', True)"
      ]
     },
     "execution_count": 8,
     "metadata": {},
     "output_type": "execute_result"
    }
   ],
   "source": [
    "t1"
   ]
  },
  {
   "cell_type": "code",
   "execution_count": 10,
   "id": "1c75f2b7-e433-49da-9cc5-83a46d2220ea",
   "metadata": {},
   "outputs": [
    {
     "data": {
      "text/plain": [
       "1"
      ]
     },
     "execution_count": 10,
     "metadata": {},
     "output_type": "execute_result"
    }
   ],
   "source": [
    "t1[0]"
   ]
  },
  {
   "cell_type": "code",
   "execution_count": 11,
   "id": "ef394cd0-1a35-4fb9-814d-39facf9e26ca",
   "metadata": {},
   "outputs": [
    {
     "data": {
      "text/plain": [
       "'Nitish'"
      ]
     },
     "execution_count": 11,
     "metadata": {},
     "output_type": "execute_result"
    }
   ],
   "source": [
    "t1[7]"
   ]
  },
  {
   "cell_type": "code",
   "execution_count": 12,
   "id": "b8b7f5f3-10f5-4b3c-8371-4c71a93208df",
   "metadata": {},
   "outputs": [
    {
     "data": {
      "text/plain": [
       "(True, 'Nitish', (45+5j), 45.45, 45, 4, 3, 2, 1)"
      ]
     },
     "execution_count": 12,
     "metadata": {},
     "output_type": "execute_result"
    }
   ],
   "source": [
    "t1[::-1]"
   ]
  },
  {
   "cell_type": "code",
   "execution_count": 13,
   "id": "7a3e02e2-2bc5-4c93-a388-1f320e785451",
   "metadata": {},
   "outputs": [],
   "source": [
    "t1=t1[::-1]"
   ]
  },
  {
   "cell_type": "code",
   "execution_count": 14,
   "id": "05550d5d-7ecb-4226-aa26-2c72f27903ec",
   "metadata": {},
   "outputs": [
    {
     "data": {
      "text/plain": [
       "(True, 'Nitish', (45+5j), 45.45, 45, 4, 3, 2, 1)"
      ]
     },
     "execution_count": 14,
     "metadata": {},
     "output_type": "execute_result"
    }
   ],
   "source": [
    "t1"
   ]
  },
  {
   "cell_type": "code",
   "execution_count": 15,
   "id": "2f793477-f2ff-4f5a-814d-c294355af7b3",
   "metadata": {},
   "outputs": [
    {
     "data": {
      "text/plain": [
       "(True, 'Nitish', (45+5j))"
      ]
     },
     "execution_count": 15,
     "metadata": {},
     "output_type": "execute_result"
    }
   ],
   "source": [
    "t1[0:3]"
   ]
  },
  {
   "cell_type": "code",
   "execution_count": 16,
   "id": "26e6d302-5acc-499c-8477-7d9f626ee961",
   "metadata": {},
   "outputs": [
    {
     "data": {
      "text/plain": [
       "(True, 'Nitish', (45+5j), 45.45, 45, 4, 3, 2, 1)"
      ]
     },
     "execution_count": 16,
     "metadata": {},
     "output_type": "execute_result"
    }
   ],
   "source": [
    "t1"
   ]
  },
  {
   "cell_type": "code",
   "execution_count": 17,
   "id": "daf54d03-7eb6-4d0f-bcac-421f4a53ac4f",
   "metadata": {},
   "outputs": [
    {
     "data": {
      "text/plain": [
       "0"
      ]
     },
     "execution_count": 17,
     "metadata": {},
     "output_type": "execute_result"
    }
   ],
   "source": [
    "t1.count(\"abc\")"
   ]
  },
  {
   "cell_type": "code",
   "execution_count": 18,
   "id": "4f6408ca-eb9f-4ace-889a-0896aa7b4345",
   "metadata": {},
   "outputs": [
    {
     "data": {
      "text/plain": [
       "0"
      ]
     },
     "execution_count": 18,
     "metadata": {},
     "output_type": "execute_result"
    }
   ],
   "source": [
    "t1.index(1)"
   ]
  },
  {
   "cell_type": "code",
   "execution_count": 19,
   "id": "77d42b05-37f9-4796-a121-de7af0c10274",
   "metadata": {},
   "outputs": [
    {
     "data": {
      "text/plain": [
       "1"
      ]
     },
     "execution_count": 19,
     "metadata": {},
     "output_type": "execute_result"
    }
   ],
   "source": [
    "t1.index(\"Nitish\")"
   ]
  },
  {
   "cell_type": "code",
   "execution_count": 20,
   "id": "04437b05-fdab-434e-bf70-01ecbc4944ff",
   "metadata": {},
   "outputs": [
    {
     "data": {
      "text/plain": [
       "(True, 'Nitish', (45+5j), 45.45, 45, 4, 3, 2, 1)"
      ]
     },
     "execution_count": 20,
     "metadata": {},
     "output_type": "execute_result"
    }
   ],
   "source": [
    "t1"
   ]
  },
  {
   "cell_type": "code",
   "execution_count": 21,
   "id": "652d93e1-b3e8-49a8-815b-3711ebcd076f",
   "metadata": {},
   "outputs": [
    {
     "data": {
      "text/plain": [
       "2"
      ]
     },
     "execution_count": 21,
     "metadata": {},
     "output_type": "execute_result"
    }
   ],
   "source": [
    "t1.count(True)"
   ]
  },
  {
   "cell_type": "code",
   "execution_count": 22,
   "id": "36a72ee0-1e47-4047-9b9a-990709772bf9",
   "metadata": {},
   "outputs": [
    {
     "data": {
      "text/plain": [
       "2"
      ]
     },
     "execution_count": 22,
     "metadata": {},
     "output_type": "execute_result"
    }
   ],
   "source": [
    "t1.count(1)"
   ]
  },
  {
   "cell_type": "code",
   "execution_count": 23,
   "id": "244fa344-b082-4361-b65f-e5772d10f6de",
   "metadata": {},
   "outputs": [
    {
     "data": {
      "text/plain": [
       "(True, 'Nitish', (45+5j), 45.45, 45, 4, 3, 2, 1)"
      ]
     },
     "execution_count": 23,
     "metadata": {},
     "output_type": "execute_result"
    }
   ],
   "source": [
    "t1"
   ]
  },
  {
   "cell_type": "code",
   "execution_count": 24,
   "id": "7c4701ca-2240-4d83-97a7-c0f054fcf7d1",
   "metadata": {},
   "outputs": [
    {
     "data": {
      "text/plain": [
       "True"
      ]
     },
     "execution_count": 24,
     "metadata": {},
     "output_type": "execute_result"
    }
   ],
   "source": [
    "t1[0]"
   ]
  },
  {
   "cell_type": "markdown",
   "id": "97c08c6f-8c0f-409e-ae39-1a883c5da9e4",
   "metadata": {},
   "source": [
    "\"\"\"Tuple are basically follows Immutability concepts where it is not going to allow to change any element at a perticular index\"\"\"\n",
    "\n"
   ]
  },
  {
   "cell_type": "code",
   "execution_count": 28,
   "id": "4df2fb38-ce08-4614-917e-34df92729cd5",
   "metadata": {},
   "outputs": [
    {
     "ename": "TypeError",
     "evalue": "'tuple' object does not support item assignment",
     "output_type": "error",
     "traceback": [
      "\u001b[0;31m---------------------------------------------------------------------------\u001b[0m",
      "\u001b[0;31mTypeError\u001b[0m                                 Traceback (most recent call last)",
      "Cell \u001b[0;32mIn[28], line 1\u001b[0m\n\u001b[0;32m----> 1\u001b[0m \u001b[43mt1\u001b[49m\u001b[43m[\u001b[49m\u001b[38;5;241;43m0\u001b[39;49m\u001b[43m]\u001b[49m\u001b[38;5;241m=\u001b[39m \u001b[38;5;241m345\u001b[39m\n",
      "\u001b[0;31mTypeError\u001b[0m: 'tuple' object does not support item assignment"
     ]
    }
   ],
   "source": [
    "t1[0]= 345"
   ]
  },
  {
   "cell_type": "code",
   "execution_count": 29,
   "id": "38c32be4-ac06-4dd8-ba0b-b74d750053a4",
   "metadata": {},
   "outputs": [
    {
     "data": {
      "text/plain": [
       "[1, 2, 3, 4]"
      ]
     },
     "execution_count": 29,
     "metadata": {},
     "output_type": "execute_result"
    }
   ],
   "source": [
    "l"
   ]
  },
  {
   "cell_type": "code",
   "execution_count": 30,
   "id": "1e08d611-6667-444c-a647-ff4d5e8d66f2",
   "metadata": {},
   "outputs": [
    {
     "data": {
      "text/plain": [
       "1"
      ]
     },
     "execution_count": 30,
     "metadata": {},
     "output_type": "execute_result"
    }
   ],
   "source": [
    "l[0]"
   ]
  },
  {
   "cell_type": "code",
   "execution_count": 31,
   "id": "e8365bd7-7310-46c9-9dd1-b9da34b0bae0",
   "metadata": {},
   "outputs": [],
   "source": [
    "l[0]=100"
   ]
  },
  {
   "cell_type": "code",
   "execution_count": 32,
   "id": "f7f0bcd3-308b-4b19-bd32-de69ae6c9bb4",
   "metadata": {},
   "outputs": [
    {
     "data": {
      "text/plain": [
       "[100, 2, 3, 4]"
      ]
     },
     "execution_count": 32,
     "metadata": {},
     "output_type": "execute_result"
    }
   ],
   "source": [
    "l"
   ]
  },
  {
   "cell_type": "code",
   "execution_count": 33,
   "id": "7eac94de-e596-487a-b50f-8a400c4ea212",
   "metadata": {},
   "outputs": [
    {
     "data": {
      "text/plain": [
       "(True, 'Nitish', (45+5j), 45.45, 45, 4, 3, 2, 1)"
      ]
     },
     "execution_count": 33,
     "metadata": {},
     "output_type": "execute_result"
    }
   ],
   "source": [
    "t1"
   ]
  },
  {
   "cell_type": "code",
   "execution_count": 34,
   "id": "e3df3568-02c2-42b7-a302-b567ca89e795",
   "metadata": {},
   "outputs": [
    {
     "name": "stdout",
     "output_type": "stream",
     "text": [
      "True <class 'bool'>\n",
      "Nitish <class 'str'>\n",
      "(45+5j) <class 'complex'>\n",
      "45.45 <class 'float'>\n",
      "45 <class 'int'>\n",
      "4 <class 'int'>\n",
      "3 <class 'int'>\n",
      "2 <class 'int'>\n",
      "1 <class 'int'>\n"
     ]
    }
   ],
   "source": [
    "for i in t1:\n",
    "    print(i , type(i))"
   ]
  },
  {
   "cell_type": "code",
   "execution_count": 36,
   "id": "58c671eb-846c-46bb-9883-9b36dacf73b6",
   "metadata": {},
   "outputs": [],
   "source": [
    "t2 = (1,2,3,3,4)"
   ]
  },
  {
   "cell_type": "code",
   "execution_count": 38,
   "id": "dc15c367-e4ce-47ee-9d20-b53128a2b455",
   "metadata": {},
   "outputs": [
    {
     "data": {
      "text/plain": [
       "(1, 2, 3, 3, 4)"
      ]
     },
     "execution_count": 38,
     "metadata": {},
     "output_type": "execute_result"
    }
   ],
   "source": [
    "t2"
   ]
  },
  {
   "cell_type": "code",
   "execution_count": 39,
   "id": "facd2780-28ec-469f-b8c0-8634f80a7d97",
   "metadata": {},
   "outputs": [
    {
     "data": {
      "text/plain": [
       "(1, 2, 3, 3, 4, 1, 2, 3, 3, 4, 1, 2, 3, 3, 4)"
      ]
     },
     "execution_count": 39,
     "metadata": {},
     "output_type": "execute_result"
    }
   ],
   "source": [
    "t2*3"
   ]
  },
  {
   "cell_type": "code",
   "execution_count": 40,
   "id": "96b3135d-586e-4370-bf41-9c38bafc2a4c",
   "metadata": {},
   "outputs": [
    {
     "data": {
      "text/plain": [
       "4"
      ]
     },
     "execution_count": 40,
     "metadata": {},
     "output_type": "execute_result"
    }
   ],
   "source": [
    "max(t2)"
   ]
  },
  {
   "cell_type": "code",
   "execution_count": 41,
   "id": "dabc4d0d-1443-4ae6-8ee7-9e0f24bf14d0",
   "metadata": {},
   "outputs": [
    {
     "data": {
      "text/plain": [
       "1"
      ]
     },
     "execution_count": 41,
     "metadata": {},
     "output_type": "execute_result"
    }
   ],
   "source": [
    "min(t2)"
   ]
  },
  {
   "cell_type": "code",
   "execution_count": 42,
   "id": "a2defb8a-b6ce-4dc8-b834-942604b6c878",
   "metadata": {},
   "outputs": [],
   "source": [
    "t1 = (1,2,32,4)\n",
    "t2 =(4,5,6,7,8)"
   ]
  },
  {
   "cell_type": "code",
   "execution_count": 43,
   "id": "6a7215b8-c197-4d07-a93e-e5914c33ae41",
   "metadata": {},
   "outputs": [],
   "source": [
    "t3 =(t1,t2)"
   ]
  },
  {
   "cell_type": "code",
   "execution_count": 44,
   "id": "9dc9fb06-1ea5-428a-81a3-1a82593d8675",
   "metadata": {},
   "outputs": [
    {
     "data": {
      "text/plain": [
       "((1, 2, 32, 4), (4, 5, 6, 7, 8))"
      ]
     },
     "execution_count": 44,
     "metadata": {},
     "output_type": "execute_result"
    }
   ],
   "source": [
    "t3"
   ]
  },
  {
   "cell_type": "code",
   "execution_count": 45,
   "id": "a2ea36cf-2838-463e-8bbf-46dc89fa8c44",
   "metadata": {},
   "outputs": [],
   "source": [
    "t4 =((1,2,3,4,5) , [1,3,5,6,7,8])"
   ]
  },
  {
   "cell_type": "code",
   "execution_count": 46,
   "id": "e499dbe1-89cc-408b-987d-f421f43a3343",
   "metadata": {},
   "outputs": [
    {
     "data": {
      "text/plain": [
       "((1, 2, 3, 4, 5), [1, 3, 5, 6, 7, 8])"
      ]
     },
     "execution_count": 46,
     "metadata": {},
     "output_type": "execute_result"
    }
   ],
   "source": [
    "t4"
   ]
  },
  {
   "cell_type": "code",
   "execution_count": 47,
   "id": "907fa6eb-738b-4947-b19e-17940537eb64",
   "metadata": {},
   "outputs": [],
   "source": [
    "del t4"
   ]
  },
  {
   "cell_type": "code",
   "execution_count": 48,
   "id": "773af66c-fff7-45b2-95fd-1ca936169c1d",
   "metadata": {},
   "outputs": [
    {
     "ename": "NameError",
     "evalue": "name 't4' is not defined",
     "output_type": "error",
     "traceback": [
      "\u001b[0;31m---------------------------------------------------------------------------\u001b[0m",
      "\u001b[0;31mNameError\u001b[0m                                 Traceback (most recent call last)",
      "Cell \u001b[0;32mIn[48], line 1\u001b[0m\n\u001b[0;32m----> 1\u001b[0m \u001b[43mt4\u001b[49m\n",
      "\u001b[0;31mNameError\u001b[0m: name 't4' is not defined"
     ]
    }
   ],
   "source": [
    "t4"
   ]
  },
  {
   "cell_type": "code",
   "execution_count": 49,
   "id": "746f6c55-6187-492b-b3c3-cf282297d8cc",
   "metadata": {},
   "outputs": [
    {
     "data": {
      "text/plain": [
       "(1, 2, 32, 4)"
      ]
     },
     "execution_count": 49,
     "metadata": {},
     "output_type": "execute_result"
    }
   ],
   "source": [
    "t1"
   ]
  },
  {
   "cell_type": "code",
   "execution_count": 50,
   "id": "b63aa5fe-c9ba-4de2-87ed-34595e7c02ed",
   "metadata": {},
   "outputs": [
    {
     "data": {
      "text/plain": [
       "4"
      ]
     },
     "execution_count": 50,
     "metadata": {},
     "output_type": "execute_result"
    }
   ],
   "source": [
    "len(t1)"
   ]
  },
  {
   "cell_type": "code",
   "execution_count": 51,
   "id": "82b3423c-c011-487b-9d54-545fe694300c",
   "metadata": {},
   "outputs": [
    {
     "data": {
      "text/plain": [
       "(1, 2, 32, 4)"
      ]
     },
     "execution_count": 51,
     "metadata": {},
     "output_type": "execute_result"
    }
   ],
   "source": [
    "t1"
   ]
  },
  {
   "cell_type": "code",
   "execution_count": 52,
   "id": "347501fa-cc48-4ead-ae35-07b2f80f0711",
   "metadata": {},
   "outputs": [
    {
     "data": {
      "text/plain": [
       "False"
      ]
     },
     "execution_count": 52,
     "metadata": {},
     "output_type": "execute_result"
    }
   ],
   "source": [
    "\"sudh\" in t1"
   ]
  },
  {
   "cell_type": "code",
   "execution_count": 53,
   "id": "27eb927d-994b-40e8-8d6e-eef9d967e4a9",
   "metadata": {},
   "outputs": [
    {
     "data": {
      "text/plain": [
       "True"
      ]
     },
     "execution_count": 53,
     "metadata": {},
     "output_type": "execute_result"
    }
   ],
   "source": [
    "2 in t1"
   ]
  },
  {
   "cell_type": "code",
   "execution_count": null,
   "id": "7656bd90-d538-4a6b-9335-72fc5c53a4c3",
   "metadata": {},
   "outputs": [],
   "source": []
  },
  {
   "cell_type": "code",
   "execution_count": null,
   "id": "dafa58e6-8da5-4c3a-a52a-a676945c733e",
   "metadata": {},
   "outputs": [],
   "source": []
  },
  {
   "cell_type": "markdown",
   "id": "515bee1a-024d-4b9d-85d1-8f3d43610f62",
   "metadata": {},
   "source": [
    "## Q3. Which collection datatypes in python do not allow duplicate items? Write a code using a set to remove\n",
    "duplicates from the given list."
   ]
  },
  {
   "cell_type": "code",
   "execution_count": 1,
   "id": "a64ea409-0979-492c-ad70-faaa9a204b23",
   "metadata": {},
   "outputs": [
    {
     "name": "stdout",
     "output_type": "stream",
     "text": [
      "original list:  1\n",
      "List after removing duplicate elements: [1, 2, 4, 5]\n"
     ]
    }
   ],
   "source": [
    "\n",
    "# PYTHON 3 CODE to demonstrate\n",
    "# removing duplicate elements from the list\n",
    "l = [1, 2, 4, 2, 1, 4, 5]\n",
    "print(\"original list: \", 1)\n",
    "res = [*set(l)]\n",
    "print(\"List after removing duplicate elements:\",res)\n",
    "\n",
    "\n"
   ]
  },
  {
   "cell_type": "markdown",
   "id": "9b41775b-d48c-4354-adc7-6e650b5e4af6",
   "metadata": {},
   "source": [
    "## Q3. Which collection datatypes in python do not allow duplicate items? Write a code using a set to remove\n",
    "# duplicates from the given list.\n"
   ]
  },
  {
   "cell_type": "code",
   "execution_count": 2,
   "id": "f6c89d54-9fe6-4fb1-8e00-d98b83820331",
   "metadata": {},
   "outputs": [],
   "source": [
    "List = [1, 1, 1, 2, 1, 3, 1, 4, 2, 1, 2, 2, 2, 3, 2, 4, 3, 1, 3, 2, 3, 3, 3, 4, 4, 1, 4, 2, 4, 3, 4, 4]"
   ]
  },
  {
   "cell_type": "code",
   "execution_count": 3,
   "id": "cf5b705f-e8b2-4ea2-a888-75894008e01a",
   "metadata": {},
   "outputs": [
    {
     "data": {
      "text/plain": [
       "list"
      ]
     },
     "execution_count": 3,
     "metadata": {},
     "output_type": "execute_result"
    }
   ],
   "source": [
    "type(List)"
   ]
  },
  {
   "cell_type": "code",
   "execution_count": 4,
   "id": "625182f2-9696-483b-9fae-20ac4e342f9a",
   "metadata": {},
   "outputs": [
    {
     "name": "stdout",
     "output_type": "stream",
     "text": [
      "The original list is : [1, 1, 1, 2, 1, 3, 1, 4, 2, 1, 2, 2, 2, 3, 2, 4, 3, 1, 3, 2, 3, 3, 3, 4, 4, 1, 4, 2, 4, 3, 4, 4]\n"
     ]
    }
   ],
   "source": [
    "List = [1, 1, 1, 2, 1, 3, 1, 4, 2, 1, 2, 2, 2, 3, 2, 4, 3, 1, 3, 2, 3, 3, 3, 4, 4, 1, 4, 2, 4, 3, 4, 4]\n",
    "print(\"The original list is : \"+str(List))"
   ]
  },
  {
   "cell_type": "code",
   "execution_count": 5,
   "id": "c75b154e-ad08-4906-997e-345dcbde4b61",
   "metadata": {},
   "outputs": [
    {
     "name": "stdout",
     "output_type": "stream",
     "text": [
      "The list after removing duplicates : [1, 2, 3, 4]\n"
     ]
    }
   ],
   "source": [
    "# using set()\n",
    "# to remove duplicated\n",
    "# from list\n",
    "List = list(set(List))\n",
    "# printing list after removal\n",
    "# distorted ordering\n",
    "print(\"The list after removing duplicates : \"+str(List))"
   ]
  },
  {
   "cell_type": "markdown",
   "id": "eafe17d1-8049-4e1e-aa14-e1a16d96d0aa",
   "metadata": {},
   "source": [
    "## Q4. Explain the difference between the union() and update() methods for a set. Give an example of\n",
    "# each method."
   ]
  },
  {
   "cell_type": "code",
   "execution_count": 15,
   "id": "74323f2b-df7d-458c-8275-b5dee9bcc720",
   "metadata": {},
   "outputs": [],
   "source": [
    "s1 = {1,2,3,4}\n",
    "s2 = {1,2,3,5}"
   ]
  },
  {
   "cell_type": "code",
   "execution_count": 16,
   "id": "52bfae99-5d76-45ec-8a89-3dd661039bc9",
   "metadata": {},
   "outputs": [
    {
     "data": {
      "text/plain": [
       "{4}"
      ]
     },
     "execution_count": 16,
     "metadata": {},
     "output_type": "execute_result"
    }
   ],
   "source": [
    "s1.difference(s2)"
   ]
  },
  {
   "cell_type": "code",
   "execution_count": 17,
   "id": "9b260c04-09ee-4a8e-984b-b96e4560e745",
   "metadata": {},
   "outputs": [
    {
     "data": {
      "text/plain": [
       "{5}"
      ]
     },
     "execution_count": 17,
     "metadata": {},
     "output_type": "execute_result"
    }
   ],
   "source": [
    "s2.difference(s1)"
   ]
  },
  {
   "cell_type": "markdown",
   "id": "5c3af039-9be5-456f-b70b-763f1377d69d",
   "metadata": {},
   "source": [
    "Python set Union() Method returns a new set which contains all the items from the original set.\n",
    "\n",
    "Union of two given sets is the set which contains all the elements of both the sets. The union of two given sets A and B is a set which consists of all the elements of A and all the elements of B such that no element is repeated."
   ]
  },
  {
   "cell_type": "markdown",
   "id": "a738c434-01ce-41f5-9ccf-2a9fd3d73df9",
   "metadata": {},
   "source": [
    "The symbol for denoting union of sets is ‘U’\n",
    "Syntax: set1.union(set2, set3, set4….)\n",
    "Parameters: zero or more sets\n",
    "\n",
    "Return: Returns a set, which has the union of all sets(set1, set2, set3…) with set1. It returns a copy of set1 only if no parameter is passed.\n"
   ]
  },
  {
   "cell_type": "code",
   "execution_count": 19,
   "id": "ff5dce9b-2677-4f33-95fc-6dc4bbcb2593",
   "metadata": {},
   "outputs": [
    {
     "name": "stdout",
     "output_type": "stream",
     "text": [
      "A U B: {2, 4, 5, 6, 7, 8}\n"
     ]
    }
   ],
   "source": [
    "A = {2,4,5,6}\n",
    "B = {4,6,7,8}\n",
    "print(\"A U B:\", A.union(B))"
   ]
  },
  {
   "cell_type": "code",
   "execution_count": 20,
   "id": "2edc8600-1427-4427-b62d-9782575c5044",
   "metadata": {},
   "outputs": [
    {
     "name": "stdout",
     "output_type": "stream",
     "text": [
      "set1 U set2 :  {2, 4, 5, 6, 7, 8}\n",
      "set1 U set2 U set3 : {2, 4, 5, 6, 7, 8, 9, 10}\n"
     ]
    }
   ],
   "source": [
    "set1 = {2, 4, 5, 6}\n",
    "set2 = {4, 6, 7, 8}\n",
    "set3 = {7, 8, 9, 10}\n",
    " \n",
    "# union of two sets\n",
    "print(\"set1 U set2 : \", set1.union(set2))\n",
    " \n",
    "# union of three sets\n",
    "print(\"set1 U set2 U set3 :\", set1.union(set2, set3))"
   ]
  },
  {
   "cell_type": "code",
   "execution_count": 22,
   "id": "a3034a9d-f3ed-4724-a39d-f9f256554d7c",
   "metadata": {},
   "outputs": [],
   "source": [
    "s= {}"
   ]
  },
  {
   "cell_type": "code",
   "execution_count": 23,
   "id": "2d0c7fe0-13a0-4521-9a44-32e7944d8e2f",
   "metadata": {},
   "outputs": [
    {
     "data": {
      "text/plain": [
       "dict"
      ]
     },
     "execution_count": 23,
     "metadata": {},
     "output_type": "execute_result"
    }
   ],
   "source": [
    "type(s)"
   ]
  },
  {
   "cell_type": "code",
   "execution_count": 24,
   "id": "3704b709-bc40-46a6-96ac-3da3a75741bb",
   "metadata": {},
   "outputs": [],
   "source": [
    "s1 = {1,2,3,4,5}"
   ]
  },
  {
   "cell_type": "code",
   "execution_count": 25,
   "id": "7a28b945-2b7f-40ba-a222-d21d2de57fdb",
   "metadata": {},
   "outputs": [
    {
     "data": {
      "text/plain": [
       "set"
      ]
     },
     "execution_count": 25,
     "metadata": {},
     "output_type": "execute_result"
    }
   ],
   "source": [
    "type(s1)"
   ]
  },
  {
   "cell_type": "code",
   "execution_count": 26,
   "id": "800ebac1-873a-445c-b78e-699d0b83794c",
   "metadata": {},
   "outputs": [],
   "source": [
    "s2 = {1,1,12,3,3,3,4,5,5,5,55,523,34,3,45,6,67}"
   ]
  },
  {
   "cell_type": "code",
   "execution_count": 27,
   "id": "2c5d6f2e-7829-4083-9285-a358aea9d623",
   "metadata": {},
   "outputs": [
    {
     "data": {
      "text/plain": [
       "{1, 3, 4, 5, 6, 12, 34, 45, 55, 67, 523}"
      ]
     },
     "execution_count": 27,
     "metadata": {},
     "output_type": "execute_result"
    }
   ],
   "source": [
    "s2"
   ]
  },
  {
   "cell_type": "code",
   "execution_count": 28,
   "id": "1cf98ede-b179-49d3-a587-ea6c8b97a7ce",
   "metadata": {},
   "outputs": [],
   "source": [
    "l = list(s2)"
   ]
  },
  {
   "cell_type": "code",
   "execution_count": 29,
   "id": "9a81b352-75c6-423b-8d47-ff52cbb5de26",
   "metadata": {},
   "outputs": [
    {
     "data": {
      "text/plain": [
       "(1, 34, 3, 4, 5, 6, 67, 523, 12, 45, 55)"
      ]
     },
     "execution_count": 29,
     "metadata": {},
     "output_type": "execute_result"
    }
   ],
   "source": [
    "tuple(s2)"
   ]
  },
  {
   "cell_type": "code",
   "execution_count": 30,
   "id": "7e8a6aa5-dff5-45f3-aca5-af2a027287a4",
   "metadata": {},
   "outputs": [
    {
     "data": {
      "text/plain": [
       "[1, 34, 3, 4, 5, 6, 67, 523, 12, 45, 55]"
      ]
     },
     "execution_count": 30,
     "metadata": {},
     "output_type": "execute_result"
    }
   ],
   "source": [
    "l"
   ]
  },
  {
   "cell_type": "code",
   "execution_count": 32,
   "id": "8a9eeb62-9bb7-4fdf-8a18-cb0d066cd6b4",
   "metadata": {},
   "outputs": [
    {
     "data": {
      "text/plain": [
       "{1, 3, 4, 5, 6, 12, 34, 45, 55, 67, 523}"
      ]
     },
     "execution_count": 32,
     "metadata": {},
     "output_type": "execute_result"
    }
   ],
   "source": [
    "set(l)"
   ]
  },
  {
   "cell_type": "code",
   "execution_count": 36,
   "id": "dc3cec56-fe9d-4e61-b80e-aa0ff28f7093",
   "metadata": {},
   "outputs": [
    {
     "ename": "NameError",
     "evalue": "name 's4' is not defined",
     "output_type": "error",
     "traceback": [
      "\u001b[0;31m---------------------------------------------------------------------------\u001b[0m",
      "\u001b[0;31mNameError\u001b[0m                                 Traceback (most recent call last)",
      "Cell \u001b[0;32mIn[36], line 1\u001b[0m\n\u001b[0;32m----> 1\u001b[0m \u001b[43ms4\u001b[49m\n",
      "\u001b[0;31mNameError\u001b[0m: name 's4' is not defined"
     ]
    }
   ],
   "source": [
    "s4"
   ]
  },
  {
   "cell_type": "code",
   "execution_count": 37,
   "id": "6aee6045-7398-4992-8b7f-cb9dfc070f03",
   "metadata": {},
   "outputs": [],
   "source": [
    "s5 = {1,2,3,4, (1,2,3,4)}"
   ]
  },
  {
   "cell_type": "code",
   "execution_count": 38,
   "id": "14ba7d2f-0ebe-41ba-96ea-053c72668759",
   "metadata": {},
   "outputs": [
    {
     "data": {
      "text/plain": [
       "{(1, 2, 3, 4), 1, 2, 3, 4}"
      ]
     },
     "execution_count": 38,
     "metadata": {},
     "output_type": "execute_result"
    }
   ],
   "source": [
    "s5"
   ]
  },
  {
   "cell_type": "code",
   "execution_count": 39,
   "id": "ccec5054-f5c9-4927-b28c-c059756ce117",
   "metadata": {},
   "outputs": [],
   "source": [
    "s6 = {\"monu\" , \"monu\" , 2,3,4,5}"
   ]
  },
  {
   "cell_type": "code",
   "execution_count": 41,
   "id": "2bf31a4c-d7ee-46ac-8c9e-c0aa08ca146e",
   "metadata": {},
   "outputs": [
    {
     "data": {
      "text/plain": [
       "{2, 3, 4, 5, 'monu'}"
      ]
     },
     "execution_count": 41,
     "metadata": {},
     "output_type": "execute_result"
    }
   ],
   "source": [
    "s6"
   ]
  },
  {
   "cell_type": "code",
   "execution_count": 42,
   "id": "04948dbe-f60e-4a48-ab89-44f35a78a661",
   "metadata": {},
   "outputs": [],
   "source": [
    "s7 = {\"monu\" , \"monu\" , 2,3,4,5}"
   ]
  },
  {
   "cell_type": "code",
   "execution_count": 43,
   "id": "9fe8b3a5-97ba-4699-b592-c447c22d7b13",
   "metadata": {},
   "outputs": [
    {
     "data": {
      "text/plain": [
       "{2, 3, 4, 5, 'monu'}"
      ]
     },
     "execution_count": 43,
     "metadata": {},
     "output_type": "execute_result"
    }
   ],
   "source": [
    "s7"
   ]
  },
  {
   "cell_type": "code",
   "execution_count": 44,
   "id": "f444df76-9159-4885-95b8-97dc69219ec5",
   "metadata": {},
   "outputs": [
    {
     "name": "stdout",
     "output_type": "stream",
     "text": [
      "2\n",
      "3\n",
      "4\n",
      "5\n",
      "monu\n"
     ]
    }
   ],
   "source": [
    "for i in s7 :\n",
    "    print(i)"
   ]
  },
  {
   "cell_type": "code",
   "execution_count": 45,
   "id": "8b1abcae-cbb3-46b3-b0dc-52e0476aab58",
   "metadata": {},
   "outputs": [],
   "source": [
    "s7.add(34)"
   ]
  },
  {
   "cell_type": "code",
   "execution_count": 46,
   "id": "252239c5-90cc-4cb3-b096-2620d3268b04",
   "metadata": {},
   "outputs": [
    {
     "data": {
      "text/plain": [
       "{2, 3, 34, 4, 5, 'monu'}"
      ]
     },
     "execution_count": 46,
     "metadata": {},
     "output_type": "execute_result"
    }
   ],
   "source": [
    "s7"
   ]
  },
  {
   "cell_type": "code",
   "execution_count": 47,
   "id": "58562326-6a14-4065-8d5e-5f4ced135001",
   "metadata": {},
   "outputs": [
    {
     "data": {
      "text/plain": [
       "6"
      ]
     },
     "execution_count": 47,
     "metadata": {},
     "output_type": "execute_result"
    }
   ],
   "source": [
    "len(s7)"
   ]
  },
  {
   "cell_type": "code",
   "execution_count": 48,
   "id": "fe35e9ce-ddad-4e20-a7b7-b0a9f824892e",
   "metadata": {},
   "outputs": [
    {
     "data": {
      "text/plain": [
       "2"
      ]
     },
     "execution_count": 48,
     "metadata": {},
     "output_type": "execute_result"
    }
   ],
   "source": [
    "s7.pop()"
   ]
  },
  {
   "cell_type": "code",
   "execution_count": 49,
   "id": "1255144f-67b8-4a5f-ac31-8ae42250b43a",
   "metadata": {},
   "outputs": [
    {
     "data": {
      "text/plain": [
       "{3, 34, 4, 5, 'monu'}"
      ]
     },
     "execution_count": 49,
     "metadata": {},
     "output_type": "execute_result"
    }
   ],
   "source": [
    "s7"
   ]
  },
  {
   "cell_type": "code",
   "execution_count": 50,
   "id": "d4d3656c-7c71-4402-8554-86ba25e61086",
   "metadata": {},
   "outputs": [
    {
     "data": {
      "text/plain": [
       "3"
      ]
     },
     "execution_count": 50,
     "metadata": {},
     "output_type": "execute_result"
    }
   ],
   "source": [
    "s7.pop()"
   ]
  },
  {
   "cell_type": "code",
   "execution_count": 51,
   "id": "1361d235-f4cd-4651-86b8-9dfd340241bb",
   "metadata": {},
   "outputs": [
    {
     "data": {
      "text/plain": [
       "4"
      ]
     },
     "execution_count": 51,
     "metadata": {},
     "output_type": "execute_result"
    }
   ],
   "source": [
    "s7.pop()"
   ]
  },
  {
   "cell_type": "code",
   "execution_count": 52,
   "id": "2acd417b-4a1f-43e4-a1ea-9a8015dc8cbe",
   "metadata": {},
   "outputs": [
    {
     "data": {
      "text/plain": [
       "5"
      ]
     },
     "execution_count": 52,
     "metadata": {},
     "output_type": "execute_result"
    }
   ],
   "source": [
    "s7.pop()"
   ]
  },
  {
   "cell_type": "code",
   "execution_count": 53,
   "id": "683a3953-3ff9-4cae-b26b-9e83849f889e",
   "metadata": {},
   "outputs": [
    {
     "data": {
      "text/plain": [
       "{34, 'monu'}"
      ]
     },
     "execution_count": 53,
     "metadata": {},
     "output_type": "execute_result"
    }
   ],
   "source": [
    "s7"
   ]
  },
  {
   "cell_type": "code",
   "execution_count": 54,
   "id": "51f65f76-566d-407a-b4f6-fb7a321676a9",
   "metadata": {},
   "outputs": [],
   "source": [
    "s7.clear()"
   ]
  },
  {
   "cell_type": "code",
   "execution_count": 55,
   "id": "30faf72b-1411-4cdd-bc6b-339ede8e66e6",
   "metadata": {},
   "outputs": [
    {
     "data": {
      "text/plain": [
       "set()"
      ]
     },
     "execution_count": 55,
     "metadata": {},
     "output_type": "execute_result"
    }
   ],
   "source": [
    "s7"
   ]
  },
  {
   "cell_type": "markdown",
   "id": "79b6b419-a0f1-420f-a34c-f9cb5c91da96",
   "metadata": {},
   "source": [
    "## Q5. What is a dictionary? Give an example. Also, state whether a dictionary is ordered or unordered.\n",
    "# Q6. Can we create a nested dictionary? If so, please give an example by creating a simple one-level\n",
    "# nested dictionary."
   ]
  },
  {
   "cell_type": "markdown",
   "id": "d7ed76b1-af78-42ca-bf43-f5d7a67390ab",
   "metadata": {},
   "source": [
    "Ans-Dictionary in Python is a collection of keys values, used to store data values like a map, which, unlike other data types which hold only a single value as an element."
   ]
  },
  {
   "cell_type": "markdown",
   "id": "6086c3c3-c348-4bb4-a9cd-430ff3932b11",
   "metadata": {},
   "source": [
    "Example of Dictionary in Python \n",
    "Dictionary holds key:value pair. Key-Value is provided in the dictionary to make it more optimized. "
   ]
  },
  {
   "cell_type": "code",
   "execution_count": 56,
   "id": "99b32c5b-45bb-4191-b75a-60a1dc4fb386",
   "metadata": {},
   "outputs": [
    {
     "name": "stdout",
     "output_type": "stream",
     "text": [
      "{1: 'pw', 2: 'For', 3: 'science'}\n"
     ]
    }
   ],
   "source": [
    "Dict = {1: 'pw', 2: 'For', 3: 'science'}\n",
    "print(Dict)"
   ]
  },
  {
   "cell_type": "markdown",
   "id": "11135f3b-98f8-419d-8086-2b95e006f5ea",
   "metadata": {},
   "source": [
    "Accessing an element of a nested dictionary\n",
    "In order to access the value of any key in the nested dictionary, use indexing [] syntax."
   ]
  },
  {
   "cell_type": "code",
   "execution_count": 57,
   "id": "e5e7a95f-67d2-4837-bf92-9ca6f5320981",
   "metadata": {},
   "outputs": [
    {
     "name": "stdout",
     "output_type": "stream",
     "text": [
      "{1: 'pw'}\n",
      "pw\n",
      "For\n"
     ]
    }
   ],
   "source": [
    "# Creating a Dictionary\n",
    "Dict = {'Dict1': {1: 'pw'},\n",
    "        'Dict2': {'Name': 'For'}}\n",
    " \n",
    "# Accessing element using key\n",
    "print(Dict['Dict1'])\n",
    "print(Dict['Dict1'][1])\n",
    "print(Dict['Dict2']['Name'])"
   ]
  },
  {
   "cell_type": "markdown",
   "id": "2d60f0ae-3473-4036-b87e-d8bab39f9be1",
   "metadata": {},
   "source": [
    "Dictionary methods\n",
    "\n",
    "Method\tDescription\n",
    "\n",
    "dic.clear()\tRemove all the elements from the dictionary.\n",
    "\n",
    "dict.copy()\tReturns a copy of the dictionary.\n",
    "\n",
    "dict.get(key, default = “None”)\t Returns the value of specified key.\n",
    "\n",
    "dict.items()\t Returns a list containing a tuple for each key value pair.\n",
    "\n",
    "dict.keys()\t Returns a list containing dictionary’s keys.\n",
    "\n",
    "dict.update(dict2)\tUpdates dictionary with specified key-value pairs.\n",
    "\n",
    "dict.values()\t Returns a list of all the values of dictionary.\n",
    "\n",
    "pop()\t Remove the element with specified key.\n",
    "\n",
    "popItem()\tRemoves the last inserted key-value pair.\n",
    "\n",
    " dict.setdefault(key,default= “None”)\tset the key to the default value if the key is not specified in the .\n",
    " \n",
    "dict.has_key(key)\treturns true if the dictionary contains the specified key.\n",
    "\n",
    "dict.get(key, default = “None”)\tused to get the value specified for the passed key.\n"
   ]
  },
  {
   "cell_type": "code",
   "execution_count": 58,
   "id": "fb6a0502-5aa9-4040-a44d-ec370450848c",
   "metadata": {},
   "outputs": [],
   "source": [
    "d = {}"
   ]
  },
  {
   "cell_type": "code",
   "execution_count": 59,
   "id": "df55c9aa-e84b-4d6d-9066-ad14c960c689",
   "metadata": {},
   "outputs": [
    {
     "data": {
      "text/plain": [
       "dict"
      ]
     },
     "execution_count": 59,
     "metadata": {},
     "output_type": "execute_result"
    }
   ],
   "source": [
    "type(d)"
   ]
  },
  {
   "cell_type": "code",
   "execution_count": 61,
   "id": "2df55cd3-ed28-4c67-922d-f4b9c1deb821",
   "metadata": {},
   "outputs": [],
   "source": [
    "d1 = {\"name\" : \"monu\" , \"email_id\" : \"monu@gmail.com\" , \"number\" :123456}"
   ]
  },
  {
   "cell_type": "code",
   "execution_count": 62,
   "id": "ea159615-cb0a-411e-a4b2-3a0852b63961",
   "metadata": {},
   "outputs": [
    {
     "data": {
      "text/plain": [
       "dict"
      ]
     },
     "execution_count": 62,
     "metadata": {},
     "output_type": "execute_result"
    }
   ],
   "source": [
    "type(d1)"
   ]
  },
  {
   "cell_type": "code",
   "execution_count": 63,
   "id": "cd2e84d4-fa04-4bd6-8817-ce66b7025335",
   "metadata": {},
   "outputs": [
    {
     "data": {
      "text/plain": [
       "{'name': 'monu', 'email_id': 'monu@gmail.com', 'number': 123456}"
      ]
     },
     "execution_count": 63,
     "metadata": {},
     "output_type": "execute_result"
    }
   ],
   "source": [
    "d1"
   ]
  },
  {
   "cell_type": "code",
   "execution_count": 64,
   "id": "0f5de294-99ea-4058-9620-ada9a9e38995",
   "metadata": {},
   "outputs": [],
   "source": [
    "d2 = {\"name\" : \"monu\" , \"name\" : \"nitish\"}"
   ]
  },
  {
   "cell_type": "code",
   "execution_count": 65,
   "id": "adc48d27-833e-464c-89e7-7cc5c86b5726",
   "metadata": {},
   "outputs": [
    {
     "data": {
      "text/plain": [
       "{'name': 'nitish'}"
      ]
     },
     "execution_count": 65,
     "metadata": {},
     "output_type": "execute_result"
    }
   ],
   "source": [
    "d2"
   ]
  },
  {
   "cell_type": "code",
   "execution_count": 66,
   "id": "625c1d06-f07e-49a6-904e-e65ba4dd3e9e",
   "metadata": {},
   "outputs": [],
   "source": [
    "d3 ={123456 : \"abc\"}"
   ]
  },
  {
   "cell_type": "code",
   "execution_count": 67,
   "id": "06f02e2a-851c-462d-bf2b-c19b12ddf066",
   "metadata": {},
   "outputs": [
    {
     "data": {
      "text/plain": [
       "{123456: 'abc'}"
      ]
     },
     "execution_count": 67,
     "metadata": {},
     "output_type": "execute_result"
    }
   ],
   "source": [
    "d3"
   ]
  },
  {
   "cell_type": "code",
   "execution_count": 68,
   "id": "a10cdcb6-1775-4303-b162-099043c6b648",
   "metadata": {},
   "outputs": [],
   "source": [
    "d4 = {234.45: 'abc'}"
   ]
  },
  {
   "cell_type": "code",
   "execution_count": 69,
   "id": "31612178-50ce-4ac2-acc1-a83ecc27b488",
   "metadata": {},
   "outputs": [
    {
     "data": {
      "text/plain": [
       "{234.45: 'abc'}"
      ]
     },
     "execution_count": 69,
     "metadata": {},
     "output_type": "execute_result"
    }
   ],
   "source": [
    "d4"
   ]
  },
  {
   "cell_type": "code",
   "execution_count": 70,
   "id": "c652f3ee-53c9-4d82-bbed-2ad66c13451c",
   "metadata": {},
   "outputs": [],
   "source": [
    "d5 ={True : \"abc\"}"
   ]
  },
  {
   "cell_type": "code",
   "execution_count": 71,
   "id": "b435a189-df1a-4a99-a1aa-baff254709cd",
   "metadata": {},
   "outputs": [
    {
     "data": {
      "text/plain": [
       "{True: 'abc'}"
      ]
     },
     "execution_count": 71,
     "metadata": {},
     "output_type": "execute_result"
    }
   ],
   "source": [
    "d5"
   ]
  },
  {
   "cell_type": "code",
   "execution_count": 73,
   "id": "bce6836b-db47-471c-8b10-cfd46a5205f2",
   "metadata": {},
   "outputs": [],
   "source": [
    "d7 = {(1,2,3) :\"abc\"}"
   ]
  },
  {
   "cell_type": "code",
   "execution_count": 74,
   "id": "69c1149c-14e0-4e21-a91e-655cb8bc3a1f",
   "metadata": {},
   "outputs": [
    {
     "data": {
      "text/plain": [
       "{(1, 2, 3): 'abc'}"
      ]
     },
     "execution_count": 74,
     "metadata": {},
     "output_type": "execute_result"
    }
   ],
   "source": [
    "d7"
   ]
  },
  {
   "cell_type": "markdown",
   "id": "5271f588-0e85-41dd-8515-c56545f584d5",
   "metadata": {},
   "source": [
    "## Q7. Using setdefault() method, create key named topics in the given dictionary and also add the value of\n",
    "the key as this list"
   ]
  },
  {
   "cell_type": "markdown",
   "id": "dbcb11c5-56a7-4645-be32-c79a20aedcf0",
   "metadata": {},
   "source": [
    "list ['Python', 'Machine Learning’, 'Deep Learning']\n",
    "dict1 = {'language' : 'Python', 'course': 'Data Science Masters'}"
   ]
  },
  {
   "cell_type": "markdown",
   "id": "f1a03341-6b43-455f-aecd-24fc28cf1b99",
   "metadata": {},
   "source": [
    "Ans-Python Dictionary setdefault() returns the value of a key (if the key is in dictionary). Else, it inserts a key with the default value to the dictionary."
   ]
  },
  {
   "cell_type": "markdown",
   "id": "4d0287ea-8852-4731-bdca-3bbc7f78c639",
   "metadata": {},
   "source": [
    "Python Dictionary setdefault() Method Syntax:\n",
    "Syntax: dict.setdefault(key, default_value)\n",
    "Parameters: It takes two parameters: \n",
    "\n",
    "key – Key to be searched in the dictionary. \n",
    "default_value (optional) – Key with a value default_value is inserted to the dictionary if key is not in the dictionary. If not provided, the default_value will be None."
   ]
  },
  {
   "cell_type": "code",
   "execution_count": 17,
   "id": "0bb7dd38-2784-4b99-aa93-3b5816cb1f4b",
   "metadata": {},
   "outputs": [],
   "source": [
    "list=[\"Python\", \"Machine Learning\", \"Deep Learning\"]"
   ]
  },
  {
   "cell_type": "code",
   "execution_count": 18,
   "id": "5cef2343-f56c-49f1-9176-cd69922040e1",
   "metadata": {},
   "outputs": [
    {
     "data": {
      "text/plain": [
       "['Python', 'Machine Learning', 'Deep Learning']"
      ]
     },
     "execution_count": 18,
     "metadata": {},
     "output_type": "execute_result"
    }
   ],
   "source": [
    "list"
   ]
  },
  {
   "cell_type": "code",
   "execution_count": 20,
   "id": "e446024d-4a0e-45da-939d-3d34f737d00f",
   "metadata": {},
   "outputs": [],
   "source": [
    "dict1 = {'language' : 'Python', 'course': 'Data Science Masters'}"
   ]
  },
  {
   "cell_type": "code",
   "execution_count": 21,
   "id": "b49e25f2-272a-4977-ac5e-7d634105b987",
   "metadata": {},
   "outputs": [
    {
     "data": {
      "text/plain": [
       "{'language': 'Python', 'course': 'Data Science Masters'}"
      ]
     },
     "execution_count": 21,
     "metadata": {},
     "output_type": "execute_result"
    }
   ],
   "source": [
    "dict1"
   ]
  },
  {
   "cell_type": "code",
   "execution_count": 23,
   "id": "c8548f97-cc1c-4719-ab12-8b7129824863",
   "metadata": {},
   "outputs": [
    {
     "name": "stdout",
     "output_type": "stream",
     "text": [
      "language\n",
      "course\n"
     ]
    }
   ],
   "source": [
    "for i in dict1 :\n",
    "    print(i)"
   ]
  },
  {
   "cell_type": "code",
   "execution_count": 25,
   "id": "fb809673-570c-4570-b9f7-945451269991",
   "metadata": {},
   "outputs": [
    {
     "name": "stdout",
     "output_type": "stream",
     "text": [
      "Python\n",
      "Machine Learning\n",
      "Deep Learning\n"
     ]
    }
   ],
   "source": [
    "for i in list:\n",
    "    print(i)"
   ]
  },
  {
   "cell_type": "markdown",
   "id": "8760ee7c-dbec-4b28-aa79-f541362daa43",
   "metadata": {},
   "source": [
    "## Q8-What are the three view objects in dictionaries? Use the three in-built methods in python to display\n",
    "these three view objects for the given dictionary.\n"
   ]
  },
  {
   "cell_type": "markdown",
   "id": "0af243c9-c166-4aa6-a30a-c2bcaf213d26",
   "metadata": {},
   "source": [
    "The main view objects of dictionary in python are keys, values and items"
   ]
  },
  {
   "cell_type": "code",
   "execution_count": 34,
   "id": "47048355-0985-45e2-bcf9-7be24ea15aa5",
   "metadata": {},
   "outputs": [],
   "source": [
    "d1 = {'Sport': 'Cricket' , 'Teams': ['India', 'Australia', 'England', 'South Africa', 'Sri Lanka', 'New Zealand']}"
   ]
  },
  {
   "cell_type": "code",
   "execution_count": 35,
   "id": "29370c32-5a4d-4e3c-8b7d-3829668cf678",
   "metadata": {},
   "outputs": [
    {
     "name": "stdout",
     "output_type": "stream",
     "text": [
      "<class 'dict'>\n"
     ]
    }
   ],
   "source": [
    "print(type(dict1))"
   ]
  },
  {
   "cell_type": "code",
   "execution_count": 36,
   "id": "c0f8d5c6-687c-409d-bfc3-ed8782ca5bda",
   "metadata": {},
   "outputs": [],
   "source": [
    "d1 = {'Sport': 'Cricket' , 'Teams': ['India', 'Australia', 'England', 'South Africa', 'Sri Lanka', 'New Zealand']}"
   ]
  },
  {
   "cell_type": "code",
   "execution_count": 37,
   "id": "7936e321-fc9b-49b7-9320-144f564174d2",
   "metadata": {},
   "outputs": [
    {
     "data": {
      "text/plain": [
       "{'Sport': 'Cricket',\n",
       " 'Teams': ['India',\n",
       "  'Australia',\n",
       "  'England',\n",
       "  'South Africa',\n",
       "  'Sri Lanka',\n",
       "  'New Zealand']}"
      ]
     },
     "execution_count": 37,
     "metadata": {},
     "output_type": "execute_result"
    }
   ],
   "source": [
    "d1"
   ]
  },
  {
   "cell_type": "code",
   "execution_count": 38,
   "id": "0a3c4ad1-e9d1-43e4-aeaa-5e2d0779112c",
   "metadata": {},
   "outputs": [],
   "source": [
    "d2 = {\"key\" : (1,2,3,4,5)}"
   ]
  },
  {
   "cell_type": "code",
   "execution_count": 39,
   "id": "42b71ad4-a2b6-4c9d-ac9d-9ef0a96fee97",
   "metadata": {},
   "outputs": [],
   "source": [
    "d3 ={\"key\" : (1,2,3,4)}"
   ]
  },
  {
   "cell_type": "code",
   "execution_count": 4,
   "id": "42e51d39-3778-4c0b-9bda-7094b5a1e642",
   "metadata": {},
   "outputs": [],
   "source": [
    "d4 = {\"key\" : {\"name\":\"monu\",\"class\":\"dsm\"}}\n"
   ]
  },
  {
   "cell_type": "code",
   "execution_count": 5,
   "id": "4a88c4dc-61ea-4f7d-816a-d73f35ec55b6",
   "metadata": {},
   "outputs": [
    {
     "data": {
      "text/plain": [
       "{'key': {'name': 'monu', 'class': 'dsm'}}"
      ]
     },
     "execution_count": 5,
     "metadata": {},
     "output_type": "execute_result"
    }
   ],
   "source": [
    "d4"
   ]
  },
  {
   "cell_type": "code",
   "execution_count": 12,
   "id": "d09a3327-e15d-4feb-86f0-479d7a72c99d",
   "metadata": {},
   "outputs": [],
   "source": [
    "d5 = {\"batch_name\" :[\"data science masters\" , \"web dev\" , \"JDS\"] , \"start_date\": (28,14,21),\"mentor_name\" : {\"krish naik\", \"sudhanshu\" , \"hitesh\", \"anurag\" , \"navin\",\"hayder\"}}"
   ]
  },
  {
   "cell_type": "code",
   "execution_count": 13,
   "id": "5ed6492c-daad-4229-8022-46359bcd6647",
   "metadata": {},
   "outputs": [
    {
     "data": {
      "text/plain": [
       "{'batch_name': ['data science masters', 'web dev', 'JDS'],\n",
       " 'start_date': (28, 14, 21),\n",
       " 'mentor_name': {'anurag',\n",
       "  'hayder',\n",
       "  'hitesh',\n",
       "  'krish naik',\n",
       "  'navin',\n",
       "  'sudhanshu'}}"
      ]
     },
     "execution_count": 13,
     "metadata": {},
     "output_type": "execute_result"
    }
   ],
   "source": [
    "d5"
   ]
  },
  {
   "cell_type": "code",
   "execution_count": 15,
   "id": "77c085b2-3874-421c-b8b1-2dee168b1e9d",
   "metadata": {},
   "outputs": [],
   "source": [
    "d5[\"timing\"] = (8 , 8 ,8)"
   ]
  },
  {
   "cell_type": "code",
   "execution_count": 16,
   "id": "2ee036f4-e47e-435b-af1c-052b809dadbf",
   "metadata": {},
   "outputs": [
    {
     "data": {
      "text/plain": [
       "{'batch_name': ['data science masters', 'web dev', 'JDS'],\n",
       " 'start_date': (28, 14, 21),\n",
       " 'mentor_name': {'anurag',\n",
       "  'hayder',\n",
       "  'hitesh',\n",
       "  'krish naik',\n",
       "  'navin',\n",
       "  'sudhanshu'},\n",
       " 'timing': (8, 8, 8)}"
      ]
     },
     "execution_count": 16,
     "metadata": {},
     "output_type": "execute_result"
    }
   ],
   "source": [
    "d5"
   ]
  },
  {
   "cell_type": "code",
   "execution_count": 17,
   "id": "cf6929d9-25e7-44d9-9916-48c2b6c821f1",
   "metadata": {},
   "outputs": [
    {
     "data": {
      "text/plain": [
       "['data science masters', 'web dev', 'JDS']"
      ]
     },
     "execution_count": 17,
     "metadata": {},
     "output_type": "execute_result"
    }
   ],
   "source": [
    "d5['batch_name']"
   ]
  },
  {
   "cell_type": "code",
   "execution_count": 23,
   "id": "c832a8f2-c0d9-474c-b8ec-679c107b1fc1",
   "metadata": {},
   "outputs": [
    {
     "data": {
      "text/plain": [
       "set"
      ]
     },
     "execution_count": 23,
     "metadata": {},
     "output_type": "execute_result"
    }
   ],
   "source": [
    "type(d5['mentor_name'])"
   ]
  },
  {
   "cell_type": "code",
   "execution_count": 25,
   "id": "b70eb893-f772-46dc-9296-a56ed512017e",
   "metadata": {},
   "outputs": [
    {
     "ename": "KeyError",
     "evalue": "'key'",
     "output_type": "error",
     "traceback": [
      "\u001b[0;31m---------------------------------------------------------------------------\u001b[0m",
      "\u001b[0;31mKeyError\u001b[0m                                  Traceback (most recent call last)",
      "Cell \u001b[0;32mIn[25], line 1\u001b[0m\n\u001b[0;32m----> 1\u001b[0m \u001b[43md5\u001b[49m\u001b[43m[\u001b[49m\u001b[38;5;124;43m\"\u001b[39;49m\u001b[38;5;124;43mkey\u001b[39;49m\u001b[38;5;124;43m\"\u001b[39;49m\u001b[43m]\u001b[49m\n",
      "\u001b[0;31mKeyError\u001b[0m: 'key'"
     ]
    }
   ],
   "source": [
    "d5[\"key\"]"
   ]
  },
  {
   "cell_type": "code",
   "execution_count": 26,
   "id": "3e7a4b31-0f8b-4d84-9ef4-c07dd047cd28",
   "metadata": {},
   "outputs": [],
   "source": [
    "d5[\"name\"] = \"monu\""
   ]
  },
  {
   "cell_type": "code",
   "execution_count": 27,
   "id": "1531ff1f-663a-459e-b148-05e91b07e493",
   "metadata": {},
   "outputs": [
    {
     "data": {
      "text/plain": [
       "{'batch_name': ['data science masters', 'web dev', 'JDS'],\n",
       " 'start_date': (28, 14, 21),\n",
       " 'mentor_name': {'anurag',\n",
       "  'hayder',\n",
       "  'hitesh',\n",
       "  'krish naik',\n",
       "  'navin',\n",
       "  'sudhanshu'},\n",
       " 'timing': (8, 8, 8),\n",
       " 'name': 'monu'}"
      ]
     },
     "execution_count": 27,
     "metadata": {},
     "output_type": "execute_result"
    }
   ],
   "source": [
    "d5"
   ]
  },
  {
   "cell_type": "code",
   "execution_count": 28,
   "id": "96a0abeb-443f-40b3-b6a1-b8b845b3c731",
   "metadata": {},
   "outputs": [
    {
     "data": {
      "text/plain": [
       "'MONU'"
      ]
     },
     "execution_count": 28,
     "metadata": {},
     "output_type": "execute_result"
    }
   ],
   "source": [
    "d5['name'].upper()"
   ]
  },
  {
   "cell_type": "code",
   "execution_count": 29,
   "id": "81e7452b-8af1-408d-b533-cbf77f851d38",
   "metadata": {},
   "outputs": [
    {
     "data": {
      "text/plain": [
       "{'key': {'name': 'monu', 'class': 'dsm'}}"
      ]
     },
     "execution_count": 29,
     "metadata": {},
     "output_type": "execute_result"
    }
   ],
   "source": [
    "d4"
   ]
  },
  {
   "cell_type": "code",
   "execution_count": 30,
   "id": "b481b780-01a3-4b37-b6a0-2f0361107b20",
   "metadata": {},
   "outputs": [
    {
     "data": {
      "text/plain": [
       "{'name': 'monu', 'class': 'dsm'}"
      ]
     },
     "execution_count": 30,
     "metadata": {},
     "output_type": "execute_result"
    }
   ],
   "source": [
    "d4['key']"
   ]
  },
  {
   "cell_type": "code",
   "execution_count": 37,
   "id": "8fad656f-328a-4b34-98a2-22d6339b8321",
   "metadata": {},
   "outputs": [
    {
     "data": {
      "text/plain": [
       "dict"
      ]
     },
     "execution_count": 37,
     "metadata": {},
     "output_type": "execute_result"
    }
   ],
   "source": [
    "type(d4[\"key\"])"
   ]
  },
  {
   "cell_type": "code",
   "execution_count": 38,
   "id": "bf0158ee-c19b-4ba6-990f-8895f1f0695a",
   "metadata": {},
   "outputs": [
    {
     "data": {
      "text/plain": [
       "'dsm'"
      ]
     },
     "execution_count": 38,
     "metadata": {},
     "output_type": "execute_result"
    }
   ],
   "source": [
    "d4['key']['class']"
   ]
  },
  {
   "cell_type": "code",
   "execution_count": 39,
   "id": "a39a6b8c-2152-4433-b279-c98a923bded7",
   "metadata": {},
   "outputs": [
    {
     "data": {
      "text/plain": [
       "dict_keys(['batch_name', 'start_date', 'mentor_name', 'timing', 'name'])"
      ]
     },
     "execution_count": 39,
     "metadata": {},
     "output_type": "execute_result"
    }
   ],
   "source": [
    "d5.keys()"
   ]
  },
  {
   "cell_type": "code",
   "execution_count": 40,
   "id": "1cf00ad4-c7d8-459f-a223-ca1c3d17aa30",
   "metadata": {},
   "outputs": [
    {
     "data": {
      "text/plain": [
       "dict_values([['data science masters', 'web dev', 'JDS'], (28, 14, 21), {'sudhanshu', 'hitesh', 'hayder', 'krish naik', 'anurag', 'navin'}, (8, 8, 8), 'monu'])"
      ]
     },
     "execution_count": 40,
     "metadata": {},
     "output_type": "execute_result"
    }
   ],
   "source": [
    "d5.values()"
   ]
  },
  {
   "cell_type": "code",
   "execution_count": 41,
   "id": "d753fae8-0aa4-4216-b470-853d3bde96f3",
   "metadata": {},
   "outputs": [
    {
     "data": {
      "text/plain": [
       "[['data science masters', 'web dev', 'JDS'],\n",
       " (28, 14, 21),\n",
       " {'anurag', 'hayder', 'hitesh', 'krish naik', 'navin', 'sudhanshu'},\n",
       " (8, 8, 8),\n",
       " 'monu']"
      ]
     },
     "execution_count": 41,
     "metadata": {},
     "output_type": "execute_result"
    }
   ],
   "source": [
    "list(d5.values())"
   ]
  },
  {
   "cell_type": "code",
   "execution_count": 42,
   "id": "202f7831-fe0f-416e-8967-6b5a8a8d05ac",
   "metadata": {},
   "outputs": [
    {
     "data": {
      "text/plain": [
       "['batch_name', 'start_date', 'mentor_name', 'timing', 'name']"
      ]
     },
     "execution_count": 42,
     "metadata": {},
     "output_type": "execute_result"
    }
   ],
   "source": [
    "list(d5.keys())"
   ]
  },
  {
   "cell_type": "code",
   "execution_count": 43,
   "id": "540083ed-f203-4508-9af3-28a2eeffd7ae",
   "metadata": {},
   "outputs": [
    {
     "data": {
      "text/plain": [
       "[('batch_name', ['data science masters', 'web dev', 'JDS']),\n",
       " ('start_date', (28, 14, 21)),\n",
       " ('mentor_name',\n",
       "  {'anurag', 'hayder', 'hitesh', 'krish naik', 'navin', 'sudhanshu'}),\n",
       " ('timing', (8, 8, 8)),\n",
       " ('name', 'monu')]"
      ]
     },
     "execution_count": 43,
     "metadata": {},
     "output_type": "execute_result"
    }
   ],
   "source": [
    "list(d5.items())"
   ]
  },
  {
   "cell_type": "code",
   "execution_count": 44,
   "id": "7cb1ddd8-8c0f-4612-a51d-1e0c7119be1e",
   "metadata": {},
   "outputs": [
    {
     "data": {
      "text/plain": [
       "{'batch_name': ['data science masters', 'web dev', 'JDS'],\n",
       " 'start_date': (28, 14, 21),\n",
       " 'mentor_name': {'anurag',\n",
       "  'hayder',\n",
       "  'hitesh',\n",
       "  'krish naik',\n",
       "  'navin',\n",
       "  'sudhanshu'},\n",
       " 'timing': (8, 8, 8),\n",
       " 'name': 'monu'}"
      ]
     },
     "execution_count": 44,
     "metadata": {},
     "output_type": "execute_result"
    }
   ],
   "source": [
    "d5"
   ]
  },
  {
   "cell_type": "code",
   "execution_count": 45,
   "id": "a883378f-1de9-43fb-860e-eadaa6c94ce4",
   "metadata": {},
   "outputs": [],
   "source": [
    "d6 = d5.copy()"
   ]
  },
  {
   "cell_type": "code",
   "execution_count": 46,
   "id": "f689a2c2-d487-482b-8821-6f4821de3c2e",
   "metadata": {},
   "outputs": [
    {
     "data": {
      "text/plain": [
       "{'batch_name': ['data science masters', 'web dev', 'JDS'],\n",
       " 'start_date': (28, 14, 21),\n",
       " 'mentor_name': {'anurag',\n",
       "  'hayder',\n",
       "  'hitesh',\n",
       "  'krish naik',\n",
       "  'navin',\n",
       "  'sudhanshu'},\n",
       " 'timing': (8, 8, 8),\n",
       " 'name': 'monu'}"
      ]
     },
     "execution_count": 46,
     "metadata": {},
     "output_type": "execute_result"
    }
   ],
   "source": [
    "d6"
   ]
  },
  {
   "cell_type": "code",
   "execution_count": 47,
   "id": "21461cd3-c22a-4908-b62e-8f576c373939",
   "metadata": {},
   "outputs": [],
   "source": [
    "del d5['name']"
   ]
  },
  {
   "cell_type": "code",
   "execution_count": 48,
   "id": "424500ce-3229-4969-b53c-0f77036dba7d",
   "metadata": {},
   "outputs": [
    {
     "data": {
      "text/plain": [
       "{'batch_name': ['data science masters', 'web dev', 'JDS'],\n",
       " 'start_date': (28, 14, 21),\n",
       " 'mentor_name': {'anurag',\n",
       "  'hayder',\n",
       "  'hitesh',\n",
       "  'krish naik',\n",
       "  'navin',\n",
       "  'sudhanshu'},\n",
       " 'timing': (8, 8, 8)}"
      ]
     },
     "execution_count": 48,
     "metadata": {},
     "output_type": "execute_result"
    }
   ],
   "source": [
    "d5"
   ]
  },
  {
   "cell_type": "code",
   "execution_count": 49,
   "id": "9acc60d8-b14b-4ddc-97dd-d380d1852e0a",
   "metadata": {},
   "outputs": [
    {
     "data": {
      "text/plain": [
       "{'batch_name': ['data science masters', 'web dev', 'JDS'],\n",
       " 'start_date': (28, 14, 21),\n",
       " 'mentor_name': {'anurag',\n",
       "  'hayder',\n",
       "  'hitesh',\n",
       "  'krish naik',\n",
       "  'navin',\n",
       "  'sudhanshu'},\n",
       " 'timing': (8, 8, 8),\n",
       " 'name': 'monu'}"
      ]
     },
     "execution_count": 49,
     "metadata": {},
     "output_type": "execute_result"
    }
   ],
   "source": [
    "d6"
   ]
  },
  {
   "cell_type": "code",
   "execution_count": 50,
   "id": "42cb2448-ca3d-488d-a815-f852901154b5",
   "metadata": {},
   "outputs": [],
   "source": [
    "d7 = d6"
   ]
  },
  {
   "cell_type": "code",
   "execution_count": 51,
   "id": "03a9db13-6015-4911-936a-734e49e15f64",
   "metadata": {},
   "outputs": [
    {
     "data": {
      "text/plain": [
       "{'batch_name': ['data science masters', 'web dev', 'JDS'],\n",
       " 'start_date': (28, 14, 21),\n",
       " 'mentor_name': {'anurag',\n",
       "  'hayder',\n",
       "  'hitesh',\n",
       "  'krish naik',\n",
       "  'navin',\n",
       "  'sudhanshu'},\n",
       " 'timing': (8, 8, 8),\n",
       " 'name': 'monu'}"
      ]
     },
     "execution_count": 51,
     "metadata": {},
     "output_type": "execute_result"
    }
   ],
   "source": [
    "d7"
   ]
  },
  {
   "cell_type": "code",
   "execution_count": 52,
   "id": "c21aa628-3d68-416d-8a11-a41149bfd34b",
   "metadata": {},
   "outputs": [
    {
     "data": {
      "text/plain": [
       "{'batch_name': ['data science masters', 'web dev', 'JDS'],\n",
       " 'start_date': (28, 14, 21),\n",
       " 'mentor_name': {'anurag',\n",
       "  'hayder',\n",
       "  'hitesh',\n",
       "  'krish naik',\n",
       "  'navin',\n",
       "  'sudhanshu'},\n",
       " 'timing': (8, 8, 8)}"
      ]
     },
     "execution_count": 52,
     "metadata": {},
     "output_type": "execute_result"
    }
   ],
   "source": [
    "d5"
   ]
  },
  {
   "cell_type": "code",
   "execution_count": 53,
   "id": "6ed065f7-08b4-48b6-8bd9-b6aab3475f61",
   "metadata": {},
   "outputs": [
    {
     "data": {
      "text/plain": [
       "(8, 8, 8)"
      ]
     },
     "execution_count": 53,
     "metadata": {},
     "output_type": "execute_result"
    }
   ],
   "source": [
    "d5.pop('timing')"
   ]
  },
  {
   "cell_type": "code",
   "execution_count": 54,
   "id": "e260fc42-6324-4501-a278-eedeaad7687f",
   "metadata": {},
   "outputs": [
    {
     "data": {
      "text/plain": [
       "{'batch_name': ['data science masters', 'web dev', 'JDS'],\n",
       " 'start_date': (28, 14, 21),\n",
       " 'mentor_name': {'anurag',\n",
       "  'hayder',\n",
       "  'hitesh',\n",
       "  'krish naik',\n",
       "  'navin',\n",
       "  'sudhanshu'}}"
      ]
     },
     "execution_count": 54,
     "metadata": {},
     "output_type": "execute_result"
    }
   ],
   "source": [
    "d5"
   ]
  },
  {
   "cell_type": "code",
   "execution_count": 55,
   "id": "fffe3e2a-020b-4d2b-b1e1-25c46a17cebb",
   "metadata": {},
   "outputs": [
    {
     "data": {
      "text/plain": [
       "{'anurag', 'hayder', 'hitesh', 'krish naik', 'navin', 'sudhanshu'}"
      ]
     },
     "execution_count": 55,
     "metadata": {},
     "output_type": "execute_result"
    }
   ],
   "source": [
    "d5.pop('mentor_name')"
   ]
  },
  {
   "cell_type": "code",
   "execution_count": 56,
   "id": "6042c921-8be5-4137-b144-a7421c3b1fd0",
   "metadata": {},
   "outputs": [
    {
     "data": {
      "text/plain": [
       "{'batch_name': ['data science masters', 'web dev', 'JDS'],\n",
       " 'start_date': (28, 14, 21)}"
      ]
     },
     "execution_count": 56,
     "metadata": {},
     "output_type": "execute_result"
    }
   ],
   "source": [
    "d5"
   ]
  },
  {
   "cell_type": "code",
   "execution_count": 58,
   "id": "7bee1803-0fad-4f5c-80e0-1eae93b6fb56",
   "metadata": {},
   "outputs": [
    {
     "ename": "NameError",
     "evalue": "name 'd' is not defined",
     "output_type": "error",
     "traceback": [
      "\u001b[0;31m---------------------------------------------------------------------------\u001b[0m",
      "\u001b[0;31mNameError\u001b[0m                                 Traceback (most recent call last)",
      "Cell \u001b[0;32mIn[58], line 1\u001b[0m\n\u001b[0;32m----> 1\u001b[0m \u001b[43md\u001b[49m\u001b[38;5;241m.\u001b[39mfromkeys((\u001b[38;5;241m1\u001b[39m,\u001b[38;5;241m2\u001b[39m,\u001b[38;5;241m3\u001b[39m) , (\u001b[38;5;124m'\u001b[39m\u001b[38;5;124ma\u001b[39m\u001b[38;5;124m'\u001b[39m,\u001b[38;5;124m'\u001b[39m\u001b[38;5;124mb\u001b[39m\u001b[38;5;124m'\u001b[39m,\u001b[38;5;124m'\u001b[39m\u001b[38;5;124mc\u001b[39m\u001b[38;5;124m'\u001b[39m))\n",
      "\u001b[0;31mNameError\u001b[0m: name 'd' is not defined"
     ]
    }
   ],
   "source": [
    "d.fromkeys((1,2,3) , ('a','b','c'))"
   ]
  },
  {
   "cell_type": "code",
   "execution_count": 59,
   "id": "bde86a05-e0d0-4a7b-bb53-e700a12bb76a",
   "metadata": {},
   "outputs": [
    {
     "ename": "NameError",
     "evalue": "name 'd' is not defined",
     "output_type": "error",
     "traceback": [
      "\u001b[0;31m---------------------------------------------------------------------------\u001b[0m",
      "\u001b[0;31mNameError\u001b[0m                                 Traceback (most recent call last)",
      "Cell \u001b[0;32mIn[59], line 1\u001b[0m\n\u001b[0;32m----> 1\u001b[0m \u001b[43md\u001b[49m\u001b[38;5;241m.\u001b[39mfromkeys((\u001b[38;5;241m1\u001b[39m,\u001b[38;5;241m2\u001b[39m,\u001b[38;5;241m3\u001b[39m) , (\u001b[38;5;124m'\u001b[39m\u001b[38;5;124ma\u001b[39m\u001b[38;5;124m'\u001b[39m,\u001b[38;5;124m'\u001b[39m\u001b[38;5;124mb\u001b[39m\u001b[38;5;124m'\u001b[39m,\u001b[38;5;124m'\u001b[39m\u001b[38;5;124mc\u001b[39m\u001b[38;5;124m'\u001b[39m))\n",
      "\u001b[0;31mNameError\u001b[0m: name 'd' is not defined"
     ]
    }
   ],
   "source": [
    "d.fromkeys((1,2,3) , ('a','b','c'))"
   ]
  },
  {
   "cell_type": "code",
   "execution_count": 60,
   "id": "7f20a368-79c8-4624-ae2b-8023a7c4836c",
   "metadata": {},
   "outputs": [],
   "source": [
    "d8 = {\"key1\" : \"value\" , \"key2\" : \"value2\"}\n",
    "d9 = {\"key3\" : \"value3\" , \"key4\" :\"value4\"}"
   ]
  },
  {
   "cell_type": "code",
   "execution_count": 61,
   "id": "089e764a-b9fc-4e48-9837-35eb9ebcd765",
   "metadata": {},
   "outputs": [
    {
     "data": {
      "text/plain": [
       "({'key1': 'value', 'key2': 'value2'}, {'key3': 'value3', 'key4': 'value4'})"
      ]
     },
     "execution_count": 61,
     "metadata": {},
     "output_type": "execute_result"
    }
   ],
   "source": [
    "(d8,d9)"
   ]
  },
  {
   "cell_type": "code",
   "execution_count": 62,
   "id": "bc969039-9733-4c46-8ccc-d58713137916",
   "metadata": {},
   "outputs": [],
   "source": [
    "d8.update(d9)"
   ]
  },
  {
   "cell_type": "code",
   "execution_count": 63,
   "id": "1ae6a20f-39f5-486b-86ad-752de7025bbc",
   "metadata": {},
   "outputs": [
    {
     "data": {
      "text/plain": [
       "{'key1': 'value', 'key2': 'value2', 'key3': 'value3', 'key4': 'value4'}"
      ]
     },
     "execution_count": 63,
     "metadata": {},
     "output_type": "execute_result"
    }
   ],
   "source": [
    "d8"
   ]
  },
  {
   "cell_type": "code",
   "execution_count": 64,
   "id": "1b133d45-1432-469b-9795-8e1479dfca60",
   "metadata": {},
   "outputs": [
    {
     "data": {
      "text/plain": [
       "{'key3': 'value3', 'key4': 'value4'}"
      ]
     },
     "execution_count": 64,
     "metadata": {},
     "output_type": "execute_result"
    }
   ],
   "source": [
    "d9"
   ]
  },
  {
   "cell_type": "markdown",
   "id": "89def01a-95aa-47a2-9da0-62220a145afe",
   "metadata": {},
   "source": [
    "## Dictionary Comprehensions\n",
    "\n"
   ]
  },
  {
   "cell_type": "code",
   "execution_count": 65,
   "id": "f440168d-1240-4e21-8671-119d9daba610",
   "metadata": {},
   "outputs": [
    {
     "data": {
      "text/plain": [
       "{1: 1, 2: 4, 3: 9, 4: 16, 5: 25, 6: 36, 7: 49, 8: 64, 9: 81, 10: 100}"
      ]
     },
     "execution_count": 65,
     "metadata": {},
     "output_type": "execute_result"
    }
   ],
   "source": [
    "{i : i**2  for i in range(1,11)}"
   ]
  },
  {
   "cell_type": "code",
   "execution_count": 66,
   "id": "e6c047ba-70d2-446c-b104-397d71e53ebd",
   "metadata": {},
   "outputs": [
    {
     "data": {
      "text/plain": [
       "[1, 2, 3, 4, 5, 6, 7, 8, 9, 10]"
      ]
     },
     "execution_count": 66,
     "metadata": {},
     "output_type": "execute_result"
    }
   ],
   "source": [
    "list(range(1,11))"
   ]
  },
  {
   "cell_type": "code",
   "execution_count": 68,
   "id": "f1edf882-da94-4733-a947-861af1e7d0f3",
   "metadata": {},
   "outputs": [
    {
     "data": {
      "text/plain": [
       "{1: 11, 2: 12, 3: 13, 4: 14, 5: 15, 6: 16, 7: 17, 8: 18, 9: 19, 10: 20}"
      ]
     },
     "execution_count": 68,
     "metadata": {},
     "output_type": "execute_result"
    }
   ],
   "source": [
    "{i : i+10 for i in range(1,11)}"
   ]
  },
  {
   "cell_type": "code",
   "execution_count": 70,
   "id": "4b39604c-f800-468c-a350-3ab449128817",
   "metadata": {},
   "outputs": [],
   "source": [
    "import math\n",
    "d21 = {i :math.log10(i) for i in range(1,11)}"
   ]
  },
  {
   "cell_type": "code",
   "execution_count": 71,
   "id": "55da4d3d-e3c6-4e4f-9c9c-affc312bb5aa",
   "metadata": {},
   "outputs": [
    {
     "data": {
      "text/plain": [
       "{'batch_name': ['data science masters', 'web dev', 'JDS'],\n",
       " 'start_date': (28, 14, 21)}"
      ]
     },
     "execution_count": 71,
     "metadata": {},
     "output_type": "execute_result"
    }
   ],
   "source": [
    "d5"
   ]
  },
  {
   "cell_type": "code",
   "execution_count": 72,
   "id": "66853527-58a1-4b8f-bafb-403ec2019fac",
   "metadata": {},
   "outputs": [
    {
     "data": {
      "text/plain": [
       "True"
      ]
     },
     "execution_count": 72,
     "metadata": {},
     "output_type": "execute_result"
    }
   ],
   "source": [
    "'batch_name' in d5"
   ]
  },
  {
   "cell_type": "code",
   "execution_count": 73,
   "id": "bf42023d-2a82-4962-ad2e-bebeeef30194",
   "metadata": {},
   "outputs": [
    {
     "data": {
      "text/plain": [
       "{1: 0.0,\n",
       " 2: 0.3010299956639812,\n",
       " 3: 0.47712125471966244,\n",
       " 4: 0.6020599913279624,\n",
       " 5: 0.6989700043360189,\n",
       " 6: 0.7781512503836436,\n",
       " 7: 0.8450980400142568,\n",
       " 8: 0.9030899869919435,\n",
       " 9: 0.9542425094393249,\n",
       " 10: 1.0}"
      ]
     },
     "execution_count": 73,
     "metadata": {},
     "output_type": "execute_result"
    }
   ],
   "source": [
    "d21"
   ]
  },
  {
   "cell_type": "code",
   "execution_count": 74,
   "id": "832f5156-10f4-432a-96b5-dcf57bfc9f47",
   "metadata": {},
   "outputs": [
    {
     "data": {
      "text/plain": [
       "dict_keys([1, 2, 3, 4, 5, 6, 7, 8, 9, 10])"
      ]
     },
     "execution_count": 74,
     "metadata": {},
     "output_type": "execute_result"
    }
   ],
   "source": [
    "d21.keys()"
   ]
  },
  {
   "cell_type": "code",
   "execution_count": 75,
   "id": "319b2698-9d89-4597-b76e-6d5259e5d6c3",
   "metadata": {},
   "outputs": [
    {
     "name": "stdout",
     "output_type": "stream",
     "text": [
      "0.3010299956639812\n",
      "0.6020599913279624\n",
      "0.7781512503836436\n",
      "0.9030899869919435\n",
      "1.0\n"
     ]
    }
   ],
   "source": [
    "for i in d21.keys():\n",
    "    if i % 2 ==0:\n",
    "        print(d21[i])"
   ]
  },
  {
   "cell_type": "code",
   "execution_count": null,
   "id": "5a1dac7e-d6a1-4256-9f0b-25478b580dba",
   "metadata": {},
   "outputs": [],
   "source": []
  }
 ],
 "metadata": {
  "kernelspec": {
   "display_name": "Python 3 (ipykernel)",
   "language": "python",
   "name": "python3"
  },
  "language_info": {
   "codemirror_mode": {
    "name": "ipython",
    "version": 3
   },
   "file_extension": ".py",
   "mimetype": "text/x-python",
   "name": "python",
   "nbconvert_exporter": "python",
   "pygments_lexer": "ipython3",
   "version": "3.10.8"
  }
 },
 "nbformat": 4,
 "nbformat_minor": 5
}
