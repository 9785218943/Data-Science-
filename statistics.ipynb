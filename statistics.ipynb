{
 "cells": [
  {
   "cell_type": "markdown",
   "id": "832094dc-bd18-4b0b-a553-2ed3a0940354",
   "metadata": {},
   "source": [
    "Q1. What is Statistics?"
   ]
  },
  {
   "cell_type": "markdown",
   "id": "4644152f-0f62-447f-93af-38a7b82626c4",
   "metadata": {},
   "source": [
    "Statistics is the science concerned with developing and studying methods for collecting,analyzing,interpreting,presenting emprical data."
   ]
  },
  {
   "cell_type": "markdown",
   "id": "d771b119-7a3f-404e-a087-0148265bf6a4",
   "metadata": {},
   "source": [
    "Q2. Define the different types of statistics and give an example of when each type might be used."
   ]
  },
  {
   "cell_type": "markdown",
   "id": "8936a7b3-a980-4b77-8873-91b09e6099d0",
   "metadata": {},
   "source": [
    "Types of statistics are two types 1.Descriptive statistics 2. Inferential statistics \n",
    "\n",
    "Descriptive statistics uses data that provides adescription of the population either through numerical calculation or graph or table. There are two categories in this as below:\n",
    "\n",
    "(a).Measure of central tendency-:as summary statistics that is used to represent the center point or a particular value of a data set or sample set.There are three measures of central\n",
    "(i) Mean :\n",
    "It is measure of average of all value in a sample set.\n",
    "For example,\n",
    "mean=sum of data/ of data points\n",
    "(ii) Median :\n",
    "It is measure of central value of a sample set. In these, data set is ordered from lowest to highest value and then finds exact middle.\n",
    "(iii) Mode :\n",
    "It is value most frequently arrived in sample set. The value repeated most of time in central set is actually mode.\n",
    "(b). Measure of Variability –\n",
    "Measure of Variability is also known as measure of dispersion and used to describe variability in a sample or population. In statistics, there are three common measures of variability as:\n",
    "\n",
    "(i) Range :\n",
    "It is given measure of how to spread apart values in sample set or data set.\n",
    "Range = Maximum value - Minimum value \n",
    "(ii) Variance :\n",
    "It simply describes how much a random variable defers from expected value and it is also computed as square of deviation.\n",
    "S2= ∑ni=1 [(xi - ͞x)2 ÷ n] \n",
    "In these formula, n represent total data points, ͞x represent mean of data points and xi represent individual data points.\n",
    "(iii) Dispersion :\n",
    "It is measure of dispersion of set of data from its mean.\n",
    "σ= √ (1÷n) ∑ni=1 (xi - μ)2\n",
    "2. Inferential Statistics :\n",
    "Inferential Statistics makes inference and prediction about population based on a sample of data taken from population. It generalizes a large dataset and applies probabilities to draw a conclusion. It is simply used for explaining meaning of descriptive stats. It is simply used to analyze, interpret result, and draw conclusion. Inferential Statistics is mainly related to and associated with hypothesis testing whose main target is to reject null hypothesis.\n",
    "Types of inferential statistics –\n",
    "One sample test of difference/One sample hypothesis test\n",
    "Confidence Interval\n",
    "Contingency Tables and Chi-Square Statistic\n",
    "T-test or Anova\n",
    "Pearson Correlation\n",
    "Bi-variate Regression\n",
    "Multi-variate Regression\n"
   ]
  },
  {
   "cell_type": "markdown",
   "id": "aaf35784-89ac-4de9-a494-71459af0f36d",
   "metadata": {},
   "source": [
    "Q3. What are the different types of data and how do they differ from each other? Provide an example of\n",
    "each type of data."
   ]
  },
  {
   "cell_type": "markdown",
   "id": "761083c3-1de0-4c29-afbf-25152955de56",
   "metadata": {},
   "source": [
    "There are two types of data: Qualitative and Quantitative data:\n",
    "The data is classified into four categories:\n",
    "Nominal data.\n",
    "Ordinal data.\n",
    "Discrete data.\n",
    "Continuous data.\n",
    "\n",
    "Qualitative or Categorical Data\n",
    "Qualitative or Categorical Data is data that can’t be measured or counted in the form of numbers. These types of data are sorted by category, not by number. That’s why it is also known as Categorical Data. These data consist of audio, images, symbols, or text. The gender of a person, i.e., male, female, or others, is qualitative data.The Qualitative data are further classified into two parts :\n",
    "The Qualitative data are further classified into two parts :\n",
    "\n",
    "(a)Nominal Data: which means “name.” With the help of nominal data, we can’t do any numerical tasks or can’t give any order to sort the data. These data don’t have any meaningful order; their values are distributed into distinct categories.\n",
    "\n",
    "Examples of Nominal Data :\n",
    "\n",
    "Colour of hair (Blonde, red, Brown, Black, etc.)\n",
    "Marital status (Single, Widowed, Married)\n",
    "Nationality (Indian, German, American)\n",
    "Gender (Male, Female, Others)\n",
    "Eye Color (Black, Brown, etc.)\n",
    "\n",
    "(b)Ordinal Data: Ordinal data have natural ordering where a number is present in some kind of order by their position on the scale. These data are used for observation like customer satisfaction, happiness, etc., but we can’t do any arithmetical tasks on them.\n",
    "\n",
    "Examples of Ordinal Data :\n",
    "\n",
    "When companies ask for feedback, experience, or satisfaction on a scale of 1 to 10\n",
    "Letter grades in the exam (A, B, C, D, etc.)\n",
    "Ranking of people in a competition (First, Second, Third, etc.)\n",
    "Economic Status (High, Medium, and Low)\n",
    "Education Level (Higher, Secondary, Primary)\n",
    "\n",
    "Quantitative Data: Quantitative data can be expressed in numerical values, making it countable and including statistical data analysis.Quantitative data can be used for statistical manipulation. These data can be represented on a wide variety of graphs and charts, such as bar graphs, histograms, scatter plots, boxplots, pie charts, line graphs, etc.\n",
    "\n",
    "Examples of Quantitative Data : \n",
    "\n",
    "Height or weight of a person or object\n",
    "Room Temperature\n",
    "Scores and Marks (Ex: 59, 80, 60, etc.)\n",
    "Time\n",
    "The Quantitative data are  classified into two parts :\n",
    "\n",
    "Discrete Data: The term discrete means distinct or separate. The discrete data contain the values that fall under integers or whole numbers. The total number of students in a class is an example of discrete data. These data can’t be broken into decimal or fraction values.\n",
    "\n",
    "Examples of Discrete Data : \n",
    "\n",
    "Total numbers of students present in a class\n",
    "Cost of a cell phone\n",
    "Numbers of employees in a company\n",
    "The total number of players who participated in a competition\n",
    "Days in a week\n",
    "\n",
    "Continuous Data: Continuous data are in the form of fractional numbers. It can be the version of an android phone, the height of a person, the length of an object, etc. Continuous data represents information that can be divided into smaller levels. The continuous variable can take any value within a range. \n",
    "\n",
    "Examples of Continuous Data : \n",
    "\n",
    "Height of a person\n",
    "Speed of a vehicle\n",
    "“Time-taken” to finish the work \n",
    "Wi-Fi Frequency\n",
    "Market share price\n"
   ]
  },
  {
   "cell_type": "markdown",
   "id": "d084526b-0de0-4660-973b-45c82d37e15e",
   "metadata": {},
   "source": [
    "Q4. Categorise the following datasets with respect to quantitative and qualitative data types:"
   ]
  },
  {
   "cell_type": "code",
   "execution_count": null,
   "id": "e978e971-82a8-44fe-8e6d-af018a759628",
   "metadata": {},
   "outputs": [],
   "source": [
    "(i) Grading in exam: A+, A, B+, B, C+, C, D, E = Qualitative  data\n",
    "(ii) Colour of mangoes: yellow, green, orange, red = Qualitative data\n",
    "(iii) Height data of a class: [178.9, 179, 179.5, 176, 177.2, 178.3, 175.8,...] = Quantitative data\n",
    "(iv) Number of mangoes exported by a farm: [500, 600, 478, 672, ...]= Quantitative data"
   ]
  },
  {
   "cell_type": "markdown",
   "id": "22aed397-86a4-4465-86f1-a85df35d87c5",
   "metadata": {},
   "source": [
    "Q5. Explain the concept of levels of measurement and give an example of a variable for each level."
   ]
  },
  {
   "cell_type": "markdown",
   "id": "67b160e3-820f-4778-8916-5d0a84f0c495",
   "metadata": {},
   "source": [
    "Levels of Measurement :\n",
    " Nominal, Ordinal, Interval and Ratio\n",
    " \n",
    "Nominal: the data can only be categorized.example:City of birth,\n",
    "Gender,Ethnicity,Car brands,Marital status.\n",
    "\n",
    "Ordinal: the data can be categorized and ranked.examples:Top 5 Olympic medallists\n",
    "Language ability (e.g., beginner, intermediate, fluent)\n",
    "Likert-type questions  \n",
    "\n",
    "Interval: the data can be categorized, ranked, and evenly spaced.example:Temperature in degrees Fahrenheit or Celsius (but not Kelvin)\n",
    "IQ score\n",
    "Income categorized as ranges .\n",
    "\n",
    "Ratio: the data can be categorized, ranked, evenly spaced, and has a natural zero.example:Weight in grams (continuous)\n",
    "Number of employees at a company (discrete),Speed in miles per hour (continuous),Length in centimeters (continuous),Age in years (continuous),Income in dollars (continuous),Sales made in one month (discrete)"
   ]
  },
  {
   "cell_type": "markdown",
   "id": "32915118-fff9-45a5-b345-b5522389fd71",
   "metadata": {},
   "source": [
    "Q7. How nominal data type is different from ordinal data type."
   ]
  },
  {
   "cell_type": "markdown",
   "id": "800051a4-43d9-4d37-9f2c-b6dfd08228c8",
   "metadata": {},
   "source": [
    "Nominal data is classified without a natural order or rank, whereas ordinal data has a predetermined or natural order. On the other hand, numerical or quantitative data will always be a number that can be measured."
   ]
  },
  {
   "cell_type": "markdown",
   "id": "7b11ef89-16f4-439f-9579-14537fc89a94",
   "metadata": {},
   "source": [
    "Q8. Which type of plot can be used to display data in terms of range?"
   ]
  },
  {
   "cell_type": "markdown",
   "id": "5f4dbd95-ee09-4e81-96bc-be09ba310ccb",
   "metadata": {},
   "source": [
    "A range plot displays two or more quantitative values for different categorical items. Typically, the chart displays exactly two values connected by a segment for each category. The chart therefore focuses on the difference, i.e. gap between the values which is represented by the size of the segment."
   ]
  },
  {
   "cell_type": "markdown",
   "id": "8a7469a7-9a2a-4e17-a8f5-8adad91822e4",
   "metadata": {},
   "source": [
    "Q9. Describe the difference between descriptive and inferential statistics. Give an example of each\n",
    "type of statistics and explain how they are used."
   ]
  },
  {
   "cell_type": "markdown",
   "id": "7a577e8c-7514-4d72-9013-d22ffaaeddb7",
   "metadata": {},
   "source": [
    "Descriptive Statistics: \n",
    "1.It gives information about raw data which describes the data in some manner.\n",
    "2.It helps in organizing, analyzing, and to present data in a meaningful manner.\n",
    "3.It is used to describe a situation.\n",
    "4.It explains already known data and is limited to a sample or population having a small size.\n",
    "5.It can be achieved with the help of charts, graphs, tables, etc."
   ]
  },
  {
   "cell_type": "markdown",
   "id": "6d87d220-a42c-4084-820b-2016460fcee3",
   "metadata": {},
   "source": [
    "Inferential Statistics:\n",
    "1.It makes inferences about the population using data drawn from the population.\n",
    "2.It allows us to compare data, and make hypotheses and predictions.\n",
    "3.It is used to explain the chance of occurrence of an event.\n",
    "4.It attempts to reach the conclusion about the population.\n",
    "5.It can be achieved by probability."
   ]
  },
  {
   "cell_type": "markdown",
   "id": "18e931d7-ed57-451c-97c7-74776a47ecc7",
   "metadata": {},
   "source": [
    " Find the mode of the following data using descriptive statistics.\n",
    "5, 6, 2, 7, 6, 5,1, 9, 5, 8, 5, 4, 3, 12, 11, 17, 5, 5\n",
    "\n",
    "Solution: Mode is the most frequently occurring observation. Thus, the mode is 5\n",
    "\n",
    "Answer: Mode = 5"
   ]
  },
  {
   "cell_type": "markdown",
   "id": "a62c3c96-b075-41b6-b5e4-1555d2adff07",
   "metadata": {},
   "source": [
    "Q10. What are some common measures of central tendency and variability used in statistics? Explain\n",
    "how each measure can be used to describe a dataset."
   ]
  },
  {
   "cell_type": "markdown",
   "id": "862c280a-1566-44be-888b-da1f725b92f9",
   "metadata": {},
   "source": [
    "Central tendency and variation are two measures used in statistics to summarize data. Measure of central tendency shows where the center or middle of the data set is located, whereas measure of variation shows the dispersion among data values.\n",
    "Descriptive statistics consists of three basic categories of measures: measures of central tendency, measures of variability (or spread), and frequency distribution. Measures of central tendency describe the center of the data set (mean, median, mode).\n"
   ]
  },
  {
   "cell_type": "code",
   "execution_count": null,
   "id": "9ba1670f-c43e-4be7-89be-f894c515949b",
   "metadata": {},
   "outputs": [],
   "source": []
  },
  {
   "cell_type": "code",
   "execution_count": null,
   "id": "578f6c8a-0b2b-4989-99bb-f0b7a39e7929",
   "metadata": {},
   "outputs": [],
   "source": []
  }
 ],
 "metadata": {
  "kernelspec": {
   "display_name": "Python 3 (ipykernel)",
   "language": "python",
   "name": "python3"
  },
  "language_info": {
   "codemirror_mode": {
    "name": "ipython",
    "version": 3
   },
   "file_extension": ".py",
   "mimetype": "text/x-python",
   "name": "python",
   "nbconvert_exporter": "python",
   "pygments_lexer": "ipython3",
   "version": "3.10.8"
  }
 },
 "nbformat": 4,
 "nbformat_minor": 5
}
